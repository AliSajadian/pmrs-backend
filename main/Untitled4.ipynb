{
 "cells": [
  {
   "cell_type": "code",
   "execution_count": 1,
   "id": "5b156068",
   "metadata": {},
   "outputs": [
    {
     "data": {
      "text/html": [
       "<div>\n",
       "<style scoped>\n",
       "    .dataframe tbody tr th:only-of-type {\n",
       "        vertical-align: middle;\n",
       "    }\n",
       "\n",
       "    .dataframe tbody tr th {\n",
       "        vertical-align: top;\n",
       "    }\n",
       "\n",
       "    .dataframe thead th {\n",
       "        text-align: right;\n",
       "    }\n",
       "</style>\n",
       "<table border=\"1\" class=\"dataframe\">\n",
       "  <thead>\n",
       "    <tr style=\"text-align: right;\">\n",
       "      <th></th>\n",
       "      <th>TABLE_NAME</th>\n",
       "    </tr>\n",
       "  </thead>\n",
       "  <tbody>\n",
       "    <tr>\n",
       "      <th>0</th>\n",
       "      <td>tblw_ProgressState</td>\n",
       "    </tr>\n",
       "    <tr>\n",
       "      <th>1</th>\n",
       "      <td>tblw_ProjectPersonel</td>\n",
       "    </tr>\n",
       "    <tr>\n",
       "      <th>2</th>\n",
       "      <td>tblw_ReportConfirm</td>\n",
       "    </tr>\n",
       "    <tr>\n",
       "      <th>3</th>\n",
       "      <td>tblw_ContractDox</td>\n",
       "    </tr>\n",
       "    <tr>\n",
       "      <th>4</th>\n",
       "      <td>tblw_ReportVisit</td>\n",
       "    </tr>\n",
       "    <tr>\n",
       "      <th>...</th>\n",
       "      <td>...</td>\n",
       "    </tr>\n",
       "    <tr>\n",
       "      <th>66</th>\n",
       "      <td>tbl_JContractCurrencies</td>\n",
       "    </tr>\n",
       "    <tr>\n",
       "      <th>67</th>\n",
       "      <td>tblw_Machinary</td>\n",
       "    </tr>\n",
       "    <tr>\n",
       "      <th>68</th>\n",
       "      <td>tblw_ReportDox</td>\n",
       "    </tr>\n",
       "    <tr>\n",
       "      <th>69</th>\n",
       "      <td>tblw_PMSProgress</td>\n",
       "    </tr>\n",
       "    <tr>\n",
       "      <th>70</th>\n",
       "      <td>tblw_Problem</td>\n",
       "    </tr>\n",
       "  </tbody>\n",
       "</table>\n",
       "<p>71 rows × 1 columns</p>\n",
       "</div>"
      ],
      "text/plain": [
       "                 TABLE_NAME\n",
       "0        tblw_ProgressState\n",
       "1      tblw_ProjectPersonel\n",
       "2        tblw_ReportConfirm\n",
       "3          tblw_ContractDox\n",
       "4          tblw_ReportVisit\n",
       "..                      ...\n",
       "66  tbl_JContractCurrencies\n",
       "67           tblw_Machinary\n",
       "68           tblw_ReportDox\n",
       "69         tblw_PMSProgress\n",
       "70             tblw_Problem\n",
       "\n",
       "[71 rows x 1 columns]"
      ]
     },
     "execution_count": 1,
     "metadata": {},
     "output_type": "execute_result"
    }
   ],
   "source": [
    "import urllib\n",
    "\n",
    "params = 'DRIVER={ODBC Driver 17 for SQL Server};' \\\n",
    "         'SERVER=localhost;' \\\n",
    "         'PORT=1433;' \\\n",
    "         'DATABASE=DbPmrs;' \\\n",
    "         'UID=sa;' \\\n",
    "         'PWD=aSj#14776$10036%mM&;'\n",
    "            \n",
    "params = urllib.parse.quote_plus(params)\n",
    "\n",
    "from sqlalchemy import create_engine\n",
    "\n",
    "db = create_engine('mssql+pyodbc:///?odbc_connect=%s' % params)\n",
    "\n",
    "import pandas as pd\n",
    "\n",
    "sql = '''\n",
    "SELECT TABLE_NAME\n",
    "FROM INFORMATION_SCHEMA.TABLES\n",
    "WHERE TABLE_TYPE = 'BASE TABLE' AND TABLE_CATALOG='DbPmrs'\n",
    "'''\n",
    "\n",
    "pd.read_sql_query(sql, db)"
   ]
  },
  {
   "cell_type": "code",
   "execution_count": null,
   "id": "4ab27cee",
   "metadata": {},
   "outputs": [],
   "source": [
    "import datetime\n",
    "import math\n",
    "\n",
    "dt = datetime.datetime(2023,7,9)\n",
    "print('date=', dt.timestamp())\n",
    "\n",
    "y = (math.trunc(dt.timestamp()) + 467066.53004084 - 0.641087919916919581508) / 365.24219878\n",
    "print('y=', y)\n",
    "y1 = y - math.trunc(y)\n",
    "print('y1=', y1)\n",
    "print('cond1=', (y1 <= 0.084875187 * 6))\n",
    "print('cond2=', y1 <= (0.084875187 * 6 + 0.082137278 * 5))\n",
    "\n",
    "m = 1 + math.trunc((y1 / 0.084875187)) if (y1 <= 0.084875187 * 6) else \\\n",
    "    (7 + math.trunc(((y1 - 0.084875187 * 6) / 0.082137278)) \\\n",
    "    if y1 <= (0.084875187 * 6 + 0.082137278 * 5) else 12)\n",
    "print('m=',m)\n",
    "mm = '0' + str(math.trunc(datetime.datetime.fromtimestamp(m))) if m < 10 else \\\n",
    "    str(math.trunc(datetime.datetime.fromtimestamp(m)))\n",
    "\n",
    "d = math.trunc(datetime.datetime.fromtimestamp(y1 * 365.24219878 - (m - 1) * 31)) + 1 if (m <= 6) else \\\n",
    "    math.trunc(datetime.datetime.fromtimestamp(y1 * 365.24219878 - (m - 1) * 30 - 6)) + 1 if (m < 12) else \\\n",
    "    math.trunc(datetime.datetime.fromtimestamp(y1 * 365.24219878 - 336)) + 1\n",
    "\n",
    "dd = '0' + str(math.trunc(datetime.datetime.fromtimestamp(d))) if d < 10 else \\\n",
    "    str(math.trunc(datetime.datetime.fromtimestamp(d)))\n",
    "\n",
    "result = str(math.trunc(datetime.datetime.fromtimestamp(y))) + '/' + mm + '/' + dd\n",
    "\n",
    "print(result)"
   ]
  },
  {
   "cell_type": "code",
   "execution_count": 2,
   "id": "149a5d55",
   "metadata": {},
   "outputs": [
    {
     "name": "stdout",
     "output_type": "stream",
     "text": [
      "1399-12-1\n"
     ]
    }
   ],
   "source": [
    "import os\n",
    "import django\n",
    "os.environ.setdefault('DJANGO_SETTINGS_MODULE', 'rest.settings')\n",
    "os.environ[\"DJANGO_ALLOW_ASYNC_UNSAFE\"] = \"true\"\n",
    "django.setup()\n",
    "\n",
    "from contracts.models import *\n",
    "import jdatetime\n",
    "from datetime import datetime\n",
    "\n",
    "date = datetime(2021, 2, 19)\n",
    "\n",
    "jDate = jdatetime.date.fromgregorian(day=date.day,month=date.month,year=date.year)\n",
    "\n",
    "print('%s-%s-%s' % (str(jDate.year), str(jDate.month), str(jDate.day)))\n",
    "# x = TblContract.objects.get(pk=123476)\n",
    "# x.startOperationShamsiDate()\n",
    "\n",
    "# print('incrementalAmount_sum=', incrementalAmount_sum)"
   ]
  },
  {
   "cell_type": "code",
   "execution_count": 2,
   "id": "96ce2359",
   "metadata": {},
   "outputs": [
    {
     "ename": "ImportError",
     "evalue": "cannot import name 'TblUser' from 'accounts.models' (D:\\projects\\cost_control\\cost-control-backend\\main\\accounts\\models.py)",
     "output_type": "error",
     "traceback": [
      "\u001b[1;31m---------------------------------------------------------------------------\u001b[0m",
      "\u001b[1;31mImportError\u001b[0m                               Traceback (most recent call last)",
      "\u001b[1;32m~\\AppData\\Local\\Temp\\ipykernel_8568\\3163776223.py\u001b[0m in \u001b[0;36m<module>\u001b[1;34m\u001b[0m\n\u001b[0;32m      6\u001b[0m \u001b[1;33m\u001b[0m\u001b[0m\n\u001b[0;32m      7\u001b[0m \u001b[1;32mfrom\u001b[0m \u001b[0mdjango\u001b[0m\u001b[1;33m.\u001b[0m\u001b[0mcontrib\u001b[0m\u001b[1;33m.\u001b[0m\u001b[0mauth\u001b[0m \u001b[1;32mimport\u001b[0m \u001b[0mget_user_model\u001b[0m\u001b[1;33m\u001b[0m\u001b[1;33m\u001b[0m\u001b[0m\n\u001b[1;32m----> 8\u001b[1;33m \u001b[1;32mfrom\u001b[0m \u001b[0maccounts\u001b[0m\u001b[1;33m.\u001b[0m\u001b[0mmodels\u001b[0m \u001b[1;32mimport\u001b[0m \u001b[0mTblUser\u001b[0m\u001b[1;33m\u001b[0m\u001b[1;33m\u001b[0m\u001b[0m\n\u001b[0m\u001b[0;32m      9\u001b[0m \u001b[1;33m\u001b[0m\u001b[0m\n\u001b[0;32m     10\u001b[0m \u001b[0mpuser\u001b[0m \u001b[1;33m=\u001b[0m \u001b[0mget_user_model\u001b[0m\u001b[1;33m(\u001b[0m\u001b[1;33m)\u001b[0m\u001b[1;33m\u001b[0m\u001b[1;33m\u001b[0m\u001b[0m\n",
      "\u001b[1;31mImportError\u001b[0m: cannot import name 'TblUser' from 'accounts.models' (D:\\projects\\cost_control\\cost-control-backend\\main\\accounts\\models.py)"
     ]
    }
   ],
   "source": [
    "import os\n",
    "import django\n",
    "os.environ.setdefault('DJANGO_SETTINGS_MODULE', 'rest.settings')\n",
    "os.environ[\"DJANGO_ALLOW_ASYNC_UNSAFE\"] = \"true\"\n",
    "django.setup()\n",
    "\n",
    "from django.contrib.auth import get_user_model\n",
    "from accounts.models import TblUser\n",
    "\n",
    "puser = get_user_model()\n",
    "tusers = TblUser.objects.all()\n",
    "\n",
    "for tuser in tusers:\n",
    "    user = puser(\n",
    "                password = 'pbkdf2_sha256$260000$7k87SmvNjAwEqa1l0MHT46$CKNzNbFWmRykPWl7BrzYzWcRwPSvIxAJnxJwxjrxX1o=',\n",
    "                username = tuser.user,\n",
    "                first_name = '',\n",
    "                last_name = '',\n",
    "                email = '',\n",
    "                is_active = tuser.active,\n",
    "                priority = tuser.priority\n",
    "                )\n",
    "    user.save()\n",
    "    user.set_password('654321')\n",
    "\n",
    "pu = get_user_model().objects.all()\n",
    "print(len(pu))"
   ]
  },
  {
   "cell_type": "code",
   "execution_count": 2,
   "id": "92dfca53",
   "metadata": {},
   "outputs": [
    {
     "name": "stdout",
     "output_type": "stream",
     "text": [
      "When a serializer is passed a `data` keyword argument you must call `.is_valid()` before attempting to access the serialized `.data` representation.\n",
      "You should either call `.is_valid()` first, or access `.initial_data` instead.\n"
     ]
    }
   ],
   "source": [
    "import os\n",
    "import django\n",
    "os.environ.setdefault('DJANGO_SETTINGS_MODULE', 'rest.settings')\n",
    "os.environ[\"DJANGO_ALLOW_ASYNC_UNSAFE\"] = \"true\"\n",
    "django.setup()\n",
    "\n",
    "from accounts.serializers import LoginSerializer\n",
    "\n",
    "try:\n",
    "    data = {\n",
    "        \"username\": \"h.masajedian\",\n",
    "        \"password\": \"ad_min123\"\n",
    "    }    \n",
    "    serializer = LoginSerializer(data=data)\n",
    "    print(serializer.data)\n",
    "\n",
    "    serializer.is_valid(raise_exception=True)\n",
    "    user = serializer.validated_data\n",
    "    print(user)\n",
    "    \n",
    "    _, token = AuthToken.objects.create(user)\n",
    "    print(token)\n",
    "except Exception as e:\n",
    "    print(str(e))\n",
    "\n",
    "\n"
   ]
  },
  {
   "cell_type": "code",
   "execution_count": 31,
   "id": "684df5bc",
   "metadata": {},
   "outputs": [
    {
     "name": "stdout",
     "output_type": "stream",
     "text": [
      "<QuerySet [{'problemid': 1019, 'contractid': 1234, 'dateid': 1051, 'problem': 'نیاز به تزریق مناسب مالی جهت تکمیل قراردادهای ساخت تجهیزات.\\t\\t\\t\\t\\t\\t\\t\\t\\t\\t\\t', 'row_number': 1}, {'problemid': 1020, 'contractid': 1234, 'dateid': 1051, 'problem': 'تصمیم گیری در خصوص مبالغ کارهای اضافه و ابلاغ آن از سوی کارفرما و تهیه الحاقیه قراردادی مربوطه با کارفرما', 'row_number': 2}, {'problemid': 1021, 'contractid': 1234, 'dateid': 1051, 'problem': 'تاثیر افزایش نرخ ارز در فعال نمودن قراردادهای جدید', 'row_number': 3}, {'problemid': 1023, 'contractid': 123465, 'dateid': 1051, 'problem': 'عدم ابلاغ  نقشه هاي فيبر نوري', 'row_number': 1}, {'problemid': 1027, 'contractid': 123464, 'dateid': 1051, 'problem': 'عدم تامین به موقع لوله های باقی مانده ( طبق برنامه زمانبندی پروژه متریال Piping از قبیل Flange - Bolt - Gasket - Mating Flange - Special Part1-2 می بایست در سایت باشد. با توجه به مسیر بحرانی پروژه راه اندازی با تاخیر انجام خواهد شد)', 'row_number': 1}, {'problemid': 1028, 'contractid': 123464, 'dateid': 1051, 'problem': 'عدم ارسال تجیزات بر اساس برنامه مصوب پروژه توسط شرکت پامیدکو', 'row_number': 2}, {'problemid': 1029, 'contractid': 123464, 'dateid': 1051, 'problem': 'با توجه مسیر بحرانی پروژه  فلنچ و اکسپنشن های سازه هیت ریکاوری ارسال آن تکمیل نشده است.', 'row_number': 3}, {'problemid': 1030, 'contractid': 123464, 'dateid': 1050, 'problem': 'عدم تامین به موقع لوله های باقی مانده ( طبق برنامه زمانبندی پروژه متریال Piping از قبیل Flange - Bolt - Gasket - Mating Flange - Special Part1-2 می بایست در سایت باشد. با توجه به مسیر بحرانی پروژه راه اندازی در تاریخ هدف، امکان پذیر نخواهد بود)', 'row_number': 4}, {'problemid': 1031, 'contractid': 123464, 'dateid': 1050, 'problem': ' عدم ارسال تجیزات بر اساس برنامه مصوب پروژه توسط شرکت پامیدکو', 'row_number': 5}, {'problemid': 1032, 'contractid': 123464, 'dateid': 1050, 'problem': 'با توجه مسیر بحرانی پروژه  فلنچ و اکسپنشن های سازه هیت ریکاوری ارسال آن تکمیل نشده است.', 'row_number': 6}, {'problemid': 1033, 'contractid': 123464, 'dateid': 1049, 'problem': 'عدم تامین به موقع لوله های باقی مانده ( طبق برنامه زمانبندی پروژه متریال Piping از قبیل Flange - Bolt - Gasket - Mating Flange - Control Valve - Special Part1-2 می بایست در سایت باشد. با توجه به مسیر بحرانی پروژه در صورت عدم ارسال در ماه جاری عملیات Piping در پایان اردیبهشت ماه متوقف می شود)', 'row_number': 7}, {'problemid': 1034, 'contractid': 123464, 'dateid': 1049, 'problem': 'عدم تکمیل و ارسال به موقع نقشه های مهندسی (FC) بر اساس برنامه مصوب پروژه توسط شرکت پامیدکو (در تمامی دیسیپلین ها)', 'row_number': 8}, {'problemid': 1035, 'contractid': 123464, 'dateid': 1049, 'problem': 'عدم ارسال تجیزات بر اساس برنامه مصوب پروژه توسط شرکت پامیدکو', 'row_number': 9}, {'problemid': 1036, 'contractid': 123464, 'dateid': 1049, 'problem': 'با توجه مسیر بحرانی پروژه  فلنچ و اکسپنشن های سازه هیت ریکاوری ارسال آن تکمیل نشده است.', 'row_number': 10}, {'problemid': 1037, 'contractid': 123464, 'dateid': 1047, 'problem': 'عدم تامین به موقع لوله های باقی مانده ( طبق برنامه زمانبندی پروژه پارت 6  Piping می بایست در سایت باشد. با توجه به مسیر بحرانی پروژه در صورت عدم ارسال در ماه جاری عملیات Piping در پایان اسفند ماه متوقف می شود)', 'row_number': 11}, {'problemid': 1038, 'contractid': 123464, 'dateid': 1047, 'problem': 'عدم تکمیل و ارسال به موقع نقشه های مهندسی (FC) بر اساس برنامه مصوب پروژه توسط شرکت پامیدکو (در تمامی دیسیپلین ها)', 'row_number': 12}, {'problemid': 1039, 'contractid': 123464, 'dateid': 1047, 'problem': 'عدم ارسال تجیزات بر اساس برنامه مصوب پروژه توسط شرکت پامیدکو', 'row_number': 13}, {'problemid': 1040, 'contractid': 123464, 'dateid': 1047, 'problem': 'با توجه مسیر بحرانی پروژه به دلیل عدم ارسال فلنچ و اکسپنشن های سازه هیت ریکاوری عملیات نصب داکت ها و نسوز این قسمت هولد می باشد.', 'row_number': 14}, {'problemid': 1046, 'contractid': 123465, 'dateid': 1050, 'problem': 'کسری نقشه های سازه و معماری و تأسیسات مکانیکی و برقي و برق صنعتي ایستگاه ها و مخزن گل گهر و  نقشه های مخزن تعادلی R0', 'row_number': 2}, {'problemid': 1047, 'contractid': 123465, 'dateid': 1050, 'problem': 'کسری نقشه های خط انتقال: 1-نقشه خط پروژه محدوده رودخانه نارکان 2-نقشه خط پروژه 1400 متر بعد ایستگاه شماره 2', 'row_number': 3}, '...(remaining elements truncated)...']>\n"
     ]
    }
   ],
   "source": [
    "from django.db.models.expressions import Window\n",
    "from django.db.models.functions import RowNumber\n",
    "from django.db.models import F\n",
    "\n",
    "result = (\n",
    "    TblwProblem.objects.order_by(\"problemid\", \"contractid\", \"dateid\")\n",
    "    .annotate(\n",
    "        row_number=Window(\n",
    "            expression=RowNumber(), partition_by=[F(\"contractid\")], order_by=[F(\"problemid\")]\n",
    "        )\n",
    "    )\n",
    "    .values(\"problemid\", \"contractid\", \"dateid\", \"problem\", \"row_number\")\n",
    ")\n",
    "print(result)"
   ]
  },
  {
   "cell_type": "code",
   "execution_count": 32,
   "id": "5e800a5d",
   "metadata": {},
   "outputs": [
    {
     "data": {
      "text/plain": [
       "[OrderedDict([('problemid', 2894), ('contractid', 123472), ('dateid', 1101), ('problem', 'عدم اجازه ترخیص و نصب کنترل ولوهای ارسال شده به کارگاه')]), OrderedDict([('problemid', 2895), ('contractid', 123472), ('dateid', 1101), ('problem', 'عدم تأیید و ابلاغ ساختار شکست بخش  راه اندازی پروژه')]), OrderedDict([('problemid', 2896), ('contractid', 123472), ('dateid', 1101), ('problem', 'عدم تأیید ساختار شکست اقلام مربوط به لوازم یدکی،مواد مصرفی و ابزار اختصاصی برای دوران راه اندازی و دوره 2 ساله بهره برداری')]), OrderedDict([('problemid', 2897), ('contractid', 123472), ('dateid', 1101), ('problem', 'عدم تأیید و پرداخت مبالغ بخش جبران هزینه های ناشی از کرونا')]), OrderedDict([('problemid', 2904), ('contractid', 123472), ('dateid', 1101), ('problem', 'problem1')])]"
      ]
     },
     "execution_count": 32,
     "metadata": {},
     "output_type": "execute_result"
    }
   ],
   "source": [
    "from projects.models import *\n",
    "from projects.serializers import *\n",
    "\n",
    "contractId = 123472\n",
    "dateId = 1101\n",
    "problems = TblwProblem.objects.filter(contractid__exact=contractId, dateid__exact=dateId)\n",
    "# problems = TblwProblem.row_number_objects.filter(contractid__exact=contractId, dateid__exact=dateId)\n",
    "serializer = ProblemSerializer(problems, many=True)\n",
    " \n",
    "\n",
    "serializer.data\n",
    "# problems"
   ]
  },
  {
   "cell_type": "code",
   "execution_count": 5,
   "id": "271af752",
   "metadata": {},
   "outputs": [
    {
     "name": "stdout",
     "output_type": "stream",
     "text": [
      "dateId:  0\n",
      "loop:  1\n"
     ]
    }
   ],
   "source": [
    "from django.db.models.functions import Substr\n",
    "from contracts.models import TblContract\n",
    "from contracts.services import GregorianToShamsi\n",
    "from projects.models import *\n",
    "\n",
    "# dateId = 0\n",
    "max_date_id = TblwReportdate.objects.aggregate(Max('dateid'))['dateid__max']\n",
    "date = TblwReportdate.objects.get(pk=max_date_id)\n",
    "y1 = int(date.year)\n",
    "m1 = int(date.month)\n",
    "\n",
    "now = GregorianToShamsi(datetime.now())\n",
    "y2 = int(now[0:4])\n",
    "m2 = int(now[5:now.find('-', 5)])\n",
    "\n",
    "dates = TblwReportdate.objects.filter(year=str(y2), month=str(m2))\n",
    "dateId = dates[0] if dates is not None and len(dates) > 0 else 0\n",
    "print('dateId: ', dateId)\n",
    "\n",
    "loop = 0\n",
    "if((y2 - y1) > 1 or ((y2 - y1) == 0 and (m2 - m1) > 0) or ((y2 -y1) == 1 and (12 - m1 + m2 > 0))):\n",
    "    loop = 1\n",
    "print('loop: ', loop)\n",
    "\n",
    "while(loop == 1):\n",
    "    if(y2 == y1):\n",
    "        m1 = m1 + 1\n",
    "        date = TblwReportdate.objects.create(year=str(y1), month=str(m1))\n",
    "        dateId = date.dateid\n",
    "\n",
    "        flag = 0\n",
    "        contracts = TblContract.objects.exclude(contract__exact='test').filter(iscompleted__exact=False)\n",
    "        for contract in contracts:\n",
    "            flag = TblJcontractreportdate.objects.filter(contractid__exact=contract.contractid, \n",
    "                                                  dateid__year__exact=y2,\n",
    "                                                  dateid__month__exact=m2).count()\n",
    "            if flag == 0:\n",
    "                TblJcontractreportdate.objects.create(contractid=contract, dateid=date)\n",
    "\n",
    "        if(m2 == m1):\n",
    "            loop = 0\n",
    "\n",
    "    elif(y2 - y1 > 0):\n",
    "        m1 = m1 + 1\n",
    "        if(m1 > 12):\n",
    "            m1 = 1\n",
    "            y1 = y1 + 1\n",
    "\n",
    "        date = TblwReportdate.objects.create(year=str(y1), month=str(m1))\n",
    "        dateId = date.dateid\n",
    "\n",
    "        flag = 0\n",
    "        contracts = TblContract.objects.exclude(contract__exact='test').filter(iscompleted__exact=False)\n",
    "        for contract in contracts:\n",
    "            flag = TblJcontractreportdate.objects.filter(contractid__exact=contract.contractid, \n",
    "                                                  dateid__year__exact=y2,\n",
    "                                                  dateid__month__exact=m2).count()\n",
    "            if flag == 0:\n",
    "                TblJcontractreportdate.objects.create(contractid=contract, dateid=date)\n",
    "\n",
    "        if(y2 == y1 and m2 == m1):\n",
    "            loop = 0\n"
   ]
  },
  {
   "cell_type": "code",
   "execution_count": 3,
   "id": "e8047258",
   "metadata": {},
   "outputs": [
    {
     "name": "stdout",
     "output_type": "stream",
     "text": [
      "{'e_percent': 0.0, 'p_percent': 0.0, 'c_percent': 100.0, 'company': 'آسفالت طوس'}\n",
      "{'e_percent': 100.0, 'p_percent': 50.0, 'c_percent': 0.0, 'company': 'فکور صنعت تهران'}\n",
      "{'e_percent': 0.0, 'p_percent': 50.0, 'c_percent': 0.0, 'company': 'ماشین سازی ویژه'}\n",
      "==============================================\n",
      "{'e_percent': 100.0, '7': None, '1021': 100.0, '1024': None}\n",
      "{'p_percent': 50.0, '7': None, '1021': 50.0, '1024': 50.0}\n",
      "{'c_percent': 100.0, '7': 100.0, '1021': None, '1024': None}\n"
     ]
    }
   ],
   "source": [
    "import pandas as pd\n",
    "from django_pivot.pivot import pivot\n",
    "from django.db.models import F\n",
    "from contracts.models import TblCorporation\n",
    "\n",
    "contractCorporations = TblCorporation.objects.filter(contractid__exact=123467).values(\n",
    "    'companyid__company', 'e_percent', 'p_percent', 'c_percent').annotate(company = F('companyid__company')).values(\n",
    "    'company', 'e_percent', 'p_percent', 'c_percent')\n",
    "for row in contractCorporations:\n",
    "    print(row)\n",
    "print('==============================================')\n",
    "pivot_table1 = pivot(contractCorporations, 'e_percent', 'companyid', 'e_percent')\n",
    "pivot_table1 = pivot_table1.exclude(\n",
    "#     e_percent__exact=None).exclude(\n",
    "    e_percent__exact=0.0)\n",
    "\n",
    "pivot_table2 = pivot(contractCorporations, 'p_percent', 'companyid', 'p_percent')\n",
    "pivot_table2 = pivot_table2.exclude(\n",
    "#     p_percent__exact=None).exclude(\n",
    "    p_percent__exact=0.0)\n",
    "\n",
    "pivot_table3 = pivot(contractCorporations, 'c_percent', 'companyid', 'c_percent')\n",
    "pivot_table3 = pivot_table3.exclude(\n",
    "#     c_percent__exact=None).exclude(\n",
    "    c_percent__exact=0.0)\n",
    "\n",
    "result = pivot_table1.union(pivot_table2).union(pivot_table3)\n",
    "\n",
    "# for row in coms:\n",
    "#     print(row.companyid, '   ,', row.company)\n",
    "\n",
    "for row in pivot_table1:\n",
    "    print(row)\n",
    "for row in pivot_table2:\n",
    "    print(row)\n",
    "for row in pivot_table3:\n",
    "    print(row)\n",
    "\n",
    "# df = pd.DataFrame(list(contractCorporations.values('companyid_id', 'e_percent', 'p_percent', 'c_percent')))\n",
    "# print(df)\n",
    "# print('==============================================')\n",
    "# # pivot_table = df.pivot(index = ['e_percent', 'p_percent', 'c_percent'], columns=['companyid_id'])\n",
    "# pivot_table = pd.pivot_table(df, index = ['e_percent', 'p_percent', 'c_percent'])\n",
    "# print(pivot_table)\n"
   ]
  },
  {
   "cell_type": "code",
   "execution_count": 35,
   "id": "95b03624",
   "metadata": {},
   "outputs": [
    {
     "name": "stdout",
     "output_type": "stream",
     "text": [
      "آسفالت طوس: e=0.0, p=0.0, c=100.0\n",
      "فکور صنعت تهران: e=100.0, p=50.0, c=0.0\n",
      "ماشین سازی ویژه: e=0.0, p=50.0, c=0.0\n"
     ]
    }
   ],
   "source": [
    "from contracts.models import TblCorporation\n",
    "\n",
    "result = TblCorporation.objects.filter(contractid__exact=123467)\n",
    "#print(result)\n",
    "for row in result:\n",
    "    print(row)"
   ]
  },
  {
   "cell_type": "code",
   "execution_count": 8,
   "id": "194da172",
   "metadata": {},
   "outputs": [
    {
     "name": "stdout",
     "output_type": "stream",
     "text": [
      "   Gender  Courses    Fee  Discount\n",
      "0  Female     Java  15000      1100\n",
      "1    Male    Spark  17000       800\n",
      "2    Male  PySpark  27000      1000\n",
      "3    Male        C  29000      1600\n",
      "4  Female   Pandas  12000       600\n",
      "                      Discount\n",
      "Gender Courses Fee            \n",
      "Female Java    15000      1100\n",
      "       Pandas  12000       600\n",
      "Male   C       29000      1600\n",
      "       PySpark 27000      1000\n",
      "       Spark   17000       800\n"
     ]
    }
   ],
   "source": [
    "\n",
    "import pandas as pd\n",
    "# Create a DataFrame\n",
    "df = pd.DataFrame({'Gender' : ['Female', 'Male', 'Male', 'Male', 'Female'],\n",
    "                  'Courses': ['Java', 'Spark', 'PySpark', 'C', 'Pandas'],\n",
    "                   'Fee': [15000, 17000, 27000, 29000, 12000],\n",
    "                   'Discount': [1100, 800, 1000, 1600, 600]})\n",
    "print(df)\n",
    "p_table = pd.pivot_table(df, index = ['Gender', 'Courses', 'Fee'])\n",
    "print(p_table)"
   ]
  },
  {
   "cell_type": "code",
   "execution_count": 6,
   "id": "a2ddaf39",
   "metadata": {},
   "outputs": [
    {
     "name": "stdout",
     "output_type": "stream",
     "text": [
      "<QuerySet [{'companyid__company': 'آسفالت طوس'}, {'companyid__company': 'فکور صنعت تهران'}, {'companyid__company': 'ماشین سازی ویژه'}]>\n"
     ]
    }
   ],
   "source": [
    "from contracts.models import TblCorporation\n",
    "#[0]['e_percent']\n",
    "e = TblCorporation.objects.filter(\n",
    "    contractid__exact=123467).values('companyid__company')\n",
    "print (e)"
   ]
  },
  {
   "cell_type": "code",
   "execution_count": 10,
   "id": "c5cfacad",
   "metadata": {},
   "outputs": [
    {
     "name": "stdout",
     "output_type": "stream",
     "text": [
      "<QuerySet [{'value': 0.0, 'label': 'آسفالت طوس'}, {'value': 100.0, 'label': 'فکور صنعت تهران'}, {'value': 0.0, 'label': 'ماشین سازی ویژه'}]>\n",
      "{'value': 0.0, 'label': 'آسفالت طوس'}\n",
      "{'value': 100.0, 'label': 'فکور صنعت تهران'}\n",
      "{'value': 0.0, 'label': 'ماشین سازی ویژه'}\n"
     ]
    }
   ],
   "source": [
    "from django.db.models import F\n",
    "from contracts.models import TblCorporation\n",
    "\n",
    "e = TblCorporation.objects.filter(contractid__exact=123467).values(\n",
    "    'companyid__company', 'e_percent', 'p_percent', 'c_percent').annotate(value = F('e_percent'),\n",
    "                                                                         label = F('companyid__company')).values(\n",
    "    'value', 'label')\n",
    "print(e)\n",
    "for row in e:\n",
    "    print(row)"
   ]
  },
  {
   "cell_type": "code",
   "execution_count": 6,
   "id": "57dee16c",
   "metadata": {},
   "outputs": [
    {
     "ename": "AttributeError",
     "evalue": "'QuerySet' object has no attribute 'items'",
     "output_type": "error",
     "traceback": [
      "\u001b[1;31m---------------------------------------------------------------------------\u001b[0m",
      "\u001b[1;31mAttributeError\u001b[0m                            Traceback (most recent call last)",
      "\u001b[1;32m~\\AppData\\Local\\Temp\\ipykernel_19840\\2390645586.py\u001b[0m in \u001b[0;36m<module>\u001b[1;34m\u001b[0m\n\u001b[0;32m      6\u001b[0m \u001b[0mserializer\u001b[0m \u001b[1;33m=\u001b[0m \u001b[0mContractCorporationSerializer\u001b[0m\u001b[1;33m(\u001b[0m\u001b[0mCorporations\u001b[0m\u001b[1;33m,\u001b[0m \u001b[0mmany\u001b[0m\u001b[1;33m=\u001b[0m\u001b[1;32mTrue\u001b[0m\u001b[1;33m)\u001b[0m\u001b[1;33m\u001b[0m\u001b[1;33m\u001b[0m\u001b[0m\n\u001b[0;32m      7\u001b[0m \u001b[1;33m\u001b[0m\u001b[0m\n\u001b[1;32m----> 8\u001b[1;33m \u001b[0mserializer\u001b[0m\u001b[1;33m.\u001b[0m\u001b[0mdata\u001b[0m\u001b[1;33m\u001b[0m\u001b[1;33m\u001b[0m\u001b[0m\n\u001b[0m",
      "\u001b[1;32mD:\\projects\\cost_control\\cost-control-backend\\env\\lib\\site-packages\\rest_framework\\serializers.py\u001b[0m in \u001b[0;36mdata\u001b[1;34m(self)\u001b[0m\n\u001b[0;32m    766\u001b[0m     \u001b[1;33m@\u001b[0m\u001b[0mproperty\u001b[0m\u001b[1;33m\u001b[0m\u001b[1;33m\u001b[0m\u001b[0m\n\u001b[0;32m    767\u001b[0m     \u001b[1;32mdef\u001b[0m \u001b[0mdata\u001b[0m\u001b[1;33m(\u001b[0m\u001b[0mself\u001b[0m\u001b[1;33m)\u001b[0m\u001b[1;33m:\u001b[0m\u001b[1;33m\u001b[0m\u001b[1;33m\u001b[0m\u001b[0m\n\u001b[1;32m--> 768\u001b[1;33m         \u001b[0mret\u001b[0m \u001b[1;33m=\u001b[0m \u001b[0msuper\u001b[0m\u001b[1;33m(\u001b[0m\u001b[1;33m)\u001b[0m\u001b[1;33m.\u001b[0m\u001b[0mdata\u001b[0m\u001b[1;33m\u001b[0m\u001b[1;33m\u001b[0m\u001b[0m\n\u001b[0m\u001b[0;32m    769\u001b[0m         \u001b[1;32mreturn\u001b[0m \u001b[0mReturnList\u001b[0m\u001b[1;33m(\u001b[0m\u001b[0mret\u001b[0m\u001b[1;33m,\u001b[0m \u001b[0mserializer\u001b[0m\u001b[1;33m=\u001b[0m\u001b[0mself\u001b[0m\u001b[1;33m)\u001b[0m\u001b[1;33m\u001b[0m\u001b[1;33m\u001b[0m\u001b[0m\n\u001b[0;32m    770\u001b[0m \u001b[1;33m\u001b[0m\u001b[0m\n",
      "\u001b[1;32mD:\\projects\\cost_control\\cost-control-backend\\env\\lib\\site-packages\\rest_framework\\serializers.py\u001b[0m in \u001b[0;36mdata\u001b[1;34m(self)\u001b[0m\n\u001b[0;32m    251\u001b[0m         \u001b[1;32mif\u001b[0m \u001b[1;32mnot\u001b[0m \u001b[0mhasattr\u001b[0m\u001b[1;33m(\u001b[0m\u001b[0mself\u001b[0m\u001b[1;33m,\u001b[0m \u001b[1;34m'_data'\u001b[0m\u001b[1;33m)\u001b[0m\u001b[1;33m:\u001b[0m\u001b[1;33m\u001b[0m\u001b[1;33m\u001b[0m\u001b[0m\n\u001b[0;32m    252\u001b[0m             \u001b[1;32mif\u001b[0m \u001b[0mself\u001b[0m\u001b[1;33m.\u001b[0m\u001b[0minstance\u001b[0m \u001b[1;32mis\u001b[0m \u001b[1;32mnot\u001b[0m \u001b[1;32mNone\u001b[0m \u001b[1;32mand\u001b[0m \u001b[1;32mnot\u001b[0m \u001b[0mgetattr\u001b[0m\u001b[1;33m(\u001b[0m\u001b[0mself\u001b[0m\u001b[1;33m,\u001b[0m \u001b[1;34m'_errors'\u001b[0m\u001b[1;33m,\u001b[0m \u001b[1;32mNone\u001b[0m\u001b[1;33m)\u001b[0m\u001b[1;33m:\u001b[0m\u001b[1;33m\u001b[0m\u001b[1;33m\u001b[0m\u001b[0m\n\u001b[1;32m--> 253\u001b[1;33m                 \u001b[0mself\u001b[0m\u001b[1;33m.\u001b[0m\u001b[0m_data\u001b[0m \u001b[1;33m=\u001b[0m \u001b[0mself\u001b[0m\u001b[1;33m.\u001b[0m\u001b[0mto_representation\u001b[0m\u001b[1;33m(\u001b[0m\u001b[0mself\u001b[0m\u001b[1;33m.\u001b[0m\u001b[0minstance\u001b[0m\u001b[1;33m)\u001b[0m\u001b[1;33m\u001b[0m\u001b[1;33m\u001b[0m\u001b[0m\n\u001b[0m\u001b[0;32m    254\u001b[0m             \u001b[1;32melif\u001b[0m \u001b[0mhasattr\u001b[0m\u001b[1;33m(\u001b[0m\u001b[0mself\u001b[0m\u001b[1;33m,\u001b[0m \u001b[1;34m'_validated_data'\u001b[0m\u001b[1;33m)\u001b[0m \u001b[1;32mand\u001b[0m \u001b[1;32mnot\u001b[0m \u001b[0mgetattr\u001b[0m\u001b[1;33m(\u001b[0m\u001b[0mself\u001b[0m\u001b[1;33m,\u001b[0m \u001b[1;34m'_errors'\u001b[0m\u001b[1;33m,\u001b[0m \u001b[1;32mNone\u001b[0m\u001b[1;33m)\u001b[0m\u001b[1;33m:\u001b[0m\u001b[1;33m\u001b[0m\u001b[1;33m\u001b[0m\u001b[0m\n\u001b[0;32m    255\u001b[0m                 \u001b[0mself\u001b[0m\u001b[1;33m.\u001b[0m\u001b[0m_data\u001b[0m \u001b[1;33m=\u001b[0m \u001b[0mself\u001b[0m\u001b[1;33m.\u001b[0m\u001b[0mto_representation\u001b[0m\u001b[1;33m(\u001b[0m\u001b[0mself\u001b[0m\u001b[1;33m.\u001b[0m\u001b[0mvalidated_data\u001b[0m\u001b[1;33m)\u001b[0m\u001b[1;33m\u001b[0m\u001b[1;33m\u001b[0m\u001b[0m\n",
      "\u001b[1;32mD:\\projects\\cost_control\\cost-control-backend\\env\\lib\\site-packages\\rest_framework\\serializers.py\u001b[0m in \u001b[0;36mto_representation\u001b[1;34m(self, data)\u001b[0m\n\u001b[0;32m    685\u001b[0m \u001b[1;33m\u001b[0m\u001b[0m\n\u001b[0;32m    686\u001b[0m         return [\n\u001b[1;32m--> 687\u001b[1;33m             \u001b[0mself\u001b[0m\u001b[1;33m.\u001b[0m\u001b[0mchild\u001b[0m\u001b[1;33m.\u001b[0m\u001b[0mto_representation\u001b[0m\u001b[1;33m(\u001b[0m\u001b[0mitem\u001b[0m\u001b[1;33m)\u001b[0m \u001b[1;32mfor\u001b[0m \u001b[0mitem\u001b[0m \u001b[1;32min\u001b[0m \u001b[0miterable\u001b[0m\u001b[1;33m\u001b[0m\u001b[1;33m\u001b[0m\u001b[0m\n\u001b[0m\u001b[0;32m    688\u001b[0m         ]\n\u001b[0;32m    689\u001b[0m \u001b[1;33m\u001b[0m\u001b[0m\n",
      "\u001b[1;32mD:\\projects\\cost_control\\cost-control-backend\\env\\lib\\site-packages\\rest_framework\\serializers.py\u001b[0m in \u001b[0;36m<listcomp>\u001b[1;34m(.0)\u001b[0m\n\u001b[0;32m    685\u001b[0m \u001b[1;33m\u001b[0m\u001b[0m\n\u001b[0;32m    686\u001b[0m         return [\n\u001b[1;32m--> 687\u001b[1;33m             \u001b[0mself\u001b[0m\u001b[1;33m.\u001b[0m\u001b[0mchild\u001b[0m\u001b[1;33m.\u001b[0m\u001b[0mto_representation\u001b[0m\u001b[1;33m(\u001b[0m\u001b[0mitem\u001b[0m\u001b[1;33m)\u001b[0m \u001b[1;32mfor\u001b[0m \u001b[0mitem\u001b[0m \u001b[1;32min\u001b[0m \u001b[0miterable\u001b[0m\u001b[1;33m\u001b[0m\u001b[1;33m\u001b[0m\u001b[0m\n\u001b[0m\u001b[0;32m    688\u001b[0m         ]\n\u001b[0;32m    689\u001b[0m \u001b[1;33m\u001b[0m\u001b[0m\n",
      "\u001b[1;32mD:\\projects\\cost_control\\cost-control-backend\\env\\lib\\site-packages\\rest_framework\\serializers.py\u001b[0m in \u001b[0;36mto_representation\u001b[1;34m(self, instance)\u001b[0m\n\u001b[0;32m    520\u001b[0m                 \u001b[0mret\u001b[0m\u001b[1;33m[\u001b[0m\u001b[0mfield\u001b[0m\u001b[1;33m.\u001b[0m\u001b[0mfield_name\u001b[0m\u001b[1;33m]\u001b[0m \u001b[1;33m=\u001b[0m \u001b[1;32mNone\u001b[0m\u001b[1;33m\u001b[0m\u001b[1;33m\u001b[0m\u001b[0m\n\u001b[0;32m    521\u001b[0m             \u001b[1;32melse\u001b[0m\u001b[1;33m:\u001b[0m\u001b[1;33m\u001b[0m\u001b[1;33m\u001b[0m\u001b[0m\n\u001b[1;32m--> 522\u001b[1;33m                 \u001b[0mret\u001b[0m\u001b[1;33m[\u001b[0m\u001b[0mfield\u001b[0m\u001b[1;33m.\u001b[0m\u001b[0mfield_name\u001b[0m\u001b[1;33m]\u001b[0m \u001b[1;33m=\u001b[0m \u001b[0mfield\u001b[0m\u001b[1;33m.\u001b[0m\u001b[0mto_representation\u001b[0m\u001b[1;33m(\u001b[0m\u001b[0mattribute\u001b[0m\u001b[1;33m)\u001b[0m\u001b[1;33m\u001b[0m\u001b[1;33m\u001b[0m\u001b[0m\n\u001b[0m\u001b[0;32m    523\u001b[0m \u001b[1;33m\u001b[0m\u001b[0m\n\u001b[0;32m    524\u001b[0m         \u001b[1;32mreturn\u001b[0m \u001b[0mret\u001b[0m\u001b[1;33m\u001b[0m\u001b[1;33m\u001b[0m\u001b[0m\n",
      "\u001b[1;32mD:\\projects\\cost_control\\cost-control-backend\\env\\lib\\site-packages\\rest_framework\\fields.py\u001b[0m in \u001b[0;36mto_representation\u001b[1;34m(self, value)\u001b[0m\n\u001b[0;32m   1685\u001b[0m         return {\n\u001b[0;32m   1686\u001b[0m             \u001b[0mstr\u001b[0m\u001b[1;33m(\u001b[0m\u001b[0mkey\u001b[0m\u001b[1;33m)\u001b[0m\u001b[1;33m:\u001b[0m \u001b[0mself\u001b[0m\u001b[1;33m.\u001b[0m\u001b[0mchild\u001b[0m\u001b[1;33m.\u001b[0m\u001b[0mto_representation\u001b[0m\u001b[1;33m(\u001b[0m\u001b[0mval\u001b[0m\u001b[1;33m)\u001b[0m \u001b[1;32mif\u001b[0m \u001b[0mval\u001b[0m \u001b[1;32mis\u001b[0m \u001b[1;32mnot\u001b[0m \u001b[1;32mNone\u001b[0m \u001b[1;32melse\u001b[0m \u001b[1;32mNone\u001b[0m\u001b[1;33m\u001b[0m\u001b[1;33m\u001b[0m\u001b[0m\n\u001b[1;32m-> 1687\u001b[1;33m             \u001b[1;32mfor\u001b[0m \u001b[0mkey\u001b[0m\u001b[1;33m,\u001b[0m \u001b[0mval\u001b[0m \u001b[1;32min\u001b[0m \u001b[0mvalue\u001b[0m\u001b[1;33m.\u001b[0m\u001b[0mitems\u001b[0m\u001b[1;33m(\u001b[0m\u001b[1;33m)\u001b[0m\u001b[1;33m\u001b[0m\u001b[1;33m\u001b[0m\u001b[0m\n\u001b[0m\u001b[0;32m   1688\u001b[0m         }\n\u001b[0;32m   1689\u001b[0m \u001b[1;33m\u001b[0m\u001b[0m\n",
      "\u001b[1;31mAttributeError\u001b[0m: 'QuerySet' object has no attribute 'items'"
     ]
    }
   ],
   "source": [
    "from contracts.models import TblCorporation\n",
    "from contracts.serializers import ContractCorporationSerializer\n",
    "\n",
    "Corporations = TblCorporation.objects.filter(contractid__exact=123467)\n",
    "\n",
    "serializer = ContractCorporationSerializer(Corporations, many=True)\n",
    "\n",
    "serializer.data\n"
   ]
  },
  {
   "cell_type": "code",
   "execution_count": 5,
   "id": "f91d4532",
   "metadata": {},
   "outputs": [
    {
     "name": "stdout",
     "output_type": "stream",
     "text": [
      "{'e_percent': 50.0, '7': None, '1021': 50.0, '1024': 50.0}\n",
      "{'e_percent': 100.0, '7': None, '1021': 100.0, '1024': None}\n",
      "{'e_percent': 100.0, '7': 100.0, '1021': None, '1024': None}\n"
     ]
    }
   ],
   "source": [
    "from django_pivot.pivot import pivot\n",
    "from contracts.models import TblCorporation\n",
    "\n",
    "contractCorporations = TblCorporation.objects.filter(contractid__exact=123467)\n",
    "\n",
    "pivot_table1 = pivot(contractCorporations, 'e_percent', 'companyid', 'e_percent')\n",
    "pivot_table1 = pivot_table1.exclude(e_percent__exact=0.0)\n",
    "\n",
    "pivot_table2 = pivot(contractCorporations, 'p_percent', 'companyid', 'p_percent')\n",
    "pivot_table2 = pivot_table2.exclude(p_percent__exact=0.0)\n",
    "\n",
    "pivot_table3 = pivot(contractCorporations, 'c_percent', 'companyid', 'c_percent')\n",
    "pivot_table3 = pivot_table3.exclude(c_percent__exact=0.0)\n",
    "\n",
    "result = pivot_table1.union(pivot_table2).union(pivot_table3)\n",
    "\n",
    "for row in result:\n",
    "    print(row)\n",
    "\n"
   ]
  },
  {
   "cell_type": "code",
   "execution_count": 6,
   "id": "fd34bc72",
   "metadata": {},
   "outputs": [
    {
     "ename": "ValueError",
     "evalue": "Column aliases cannot contain whitespace characters, quotation marks, semicolons, or SQL comments.",
     "output_type": "error",
     "traceback": [
      "\u001b[1;31m---------------------------------------------------------------------------\u001b[0m",
      "\u001b[1;31mValueError\u001b[0m                                Traceback (most recent call last)",
      "\u001b[1;32m~\\AppData\\Local\\Temp\\ipykernel_9840\\226755644.py\u001b[0m in \u001b[0;36m<module>\u001b[1;34m\u001b[0m\n\u001b[0;32m      4\u001b[0m \u001b[0mcontractCorporations\u001b[0m \u001b[1;33m=\u001b[0m \u001b[0mTblCorporation\u001b[0m\u001b[1;33m.\u001b[0m\u001b[0mobjects\u001b[0m\u001b[1;33m.\u001b[0m\u001b[0mfilter\u001b[0m\u001b[1;33m(\u001b[0m\u001b[0mcontractid__exact\u001b[0m\u001b[1;33m=\u001b[0m\u001b[1;36m123467\u001b[0m\u001b[1;33m)\u001b[0m\u001b[1;33m\u001b[0m\u001b[1;33m\u001b[0m\u001b[0m\n\u001b[0;32m      5\u001b[0m \u001b[1;33m\u001b[0m\u001b[0m\n\u001b[1;32m----> 6\u001b[1;33m \u001b[0mpivot_table1\u001b[0m \u001b[1;33m=\u001b[0m \u001b[0mpivot\u001b[0m\u001b[1;33m(\u001b[0m\u001b[0mcontractCorporations\u001b[0m\u001b[1;33m,\u001b[0m \u001b[1;34m'e_percent'\u001b[0m\u001b[1;33m,\u001b[0m \u001b[1;34m'companyid__company'\u001b[0m\u001b[1;33m,\u001b[0m \u001b[1;34m'e_percent'\u001b[0m\u001b[1;33m)\u001b[0m\u001b[1;33m\u001b[0m\u001b[1;33m\u001b[0m\u001b[0m\n\u001b[0m\u001b[0;32m      7\u001b[0m \u001b[0mpivot_table1\u001b[0m \u001b[1;33m=\u001b[0m \u001b[0mpivot_table1\u001b[0m\u001b[1;33m.\u001b[0m\u001b[0mexclude\u001b[0m\u001b[1;33m(\u001b[0m\u001b[0me_percent__exact\u001b[0m\u001b[1;33m=\u001b[0m\u001b[1;36m0.0\u001b[0m\u001b[1;33m)\u001b[0m\u001b[1;33m\u001b[0m\u001b[1;33m\u001b[0m\u001b[0m\n\u001b[0;32m      8\u001b[0m \u001b[1;33m\u001b[0m\u001b[0m\n",
      "\u001b[1;32mD:\\projects\\cost_control\\cost-control-backend\\env\\lib\\site-packages\\django_pivot\\pivot.py\u001b[0m in \u001b[0;36mpivot\u001b[1;34m(queryset, rows, column, data, aggregation, choices, display_transform, default, row_range)\u001b[0m\n\u001b[0;32m     37\u001b[0m             \u001b[0mvalues\u001b[0m\u001b[1;33m.\u001b[0m\u001b[0mappend\u001b[0m\u001b[1;33m(\u001b[0m\u001b[1;34m'get_'\u001b[0m \u001b[1;33m+\u001b[0m \u001b[0mrow\u001b[0m \u001b[1;33m+\u001b[0m \u001b[1;34m'_display'\u001b[0m\u001b[1;33m)\u001b[0m\u001b[1;33m\u001b[0m\u001b[1;33m\u001b[0m\u001b[0m\n\u001b[0;32m     38\u001b[0m \u001b[1;33m\u001b[0m\u001b[0m\n\u001b[1;32m---> 39\u001b[1;33m     \u001b[0mvalues_list\u001b[0m \u001b[1;33m=\u001b[0m \u001b[0mqueryset\u001b[0m\u001b[1;33m.\u001b[0m\u001b[0mvalues\u001b[0m\u001b[1;33m(\u001b[0m\u001b[1;33m*\u001b[0m\u001b[0mvalues\u001b[0m\u001b[1;33m)\u001b[0m\u001b[1;33m.\u001b[0m\u001b[0mannotate\u001b[0m\u001b[1;33m(\u001b[0m\u001b[1;33m**\u001b[0m\u001b[0mannotations\u001b[0m\u001b[1;33m)\u001b[0m\u001b[1;33m\u001b[0m\u001b[1;33m\u001b[0m\u001b[0m\n\u001b[0m\u001b[0;32m     40\u001b[0m \u001b[1;33m\u001b[0m\u001b[0m\n\u001b[0;32m     41\u001b[0m     \u001b[1;32mif\u001b[0m \u001b[0mrow_range\u001b[0m\u001b[1;33m:\u001b[0m\u001b[1;33m\u001b[0m\u001b[1;33m\u001b[0m\u001b[0m\n",
      "\u001b[1;32mD:\\projects\\cost_control\\cost-control-backend\\env\\lib\\site-packages\\django\\db\\models\\query.py\u001b[0m in \u001b[0;36mannotate\u001b[1;34m(self, *args, **kwargs)\u001b[0m\n\u001b[0;32m   1089\u001b[0m         \"\"\"\n\u001b[0;32m   1090\u001b[0m         \u001b[0mself\u001b[0m\u001b[1;33m.\u001b[0m\u001b[0m_not_support_combined_queries\u001b[0m\u001b[1;33m(\u001b[0m\u001b[1;34m'annotate'\u001b[0m\u001b[1;33m)\u001b[0m\u001b[1;33m\u001b[0m\u001b[1;33m\u001b[0m\u001b[0m\n\u001b[1;32m-> 1091\u001b[1;33m         \u001b[1;32mreturn\u001b[0m \u001b[0mself\u001b[0m\u001b[1;33m.\u001b[0m\u001b[0m_annotate\u001b[0m\u001b[1;33m(\u001b[0m\u001b[0margs\u001b[0m\u001b[1;33m,\u001b[0m \u001b[0mkwargs\u001b[0m\u001b[1;33m,\u001b[0m \u001b[0mselect\u001b[0m\u001b[1;33m=\u001b[0m\u001b[1;32mTrue\u001b[0m\u001b[1;33m)\u001b[0m\u001b[1;33m\u001b[0m\u001b[1;33m\u001b[0m\u001b[0m\n\u001b[0m\u001b[0;32m   1092\u001b[0m \u001b[1;33m\u001b[0m\u001b[0m\n\u001b[0;32m   1093\u001b[0m     \u001b[1;32mdef\u001b[0m \u001b[0malias\u001b[0m\u001b[1;33m(\u001b[0m\u001b[0mself\u001b[0m\u001b[1;33m,\u001b[0m \u001b[1;33m*\u001b[0m\u001b[0margs\u001b[0m\u001b[1;33m,\u001b[0m \u001b[1;33m**\u001b[0m\u001b[0mkwargs\u001b[0m\u001b[1;33m)\u001b[0m\u001b[1;33m:\u001b[0m\u001b[1;33m\u001b[0m\u001b[1;33m\u001b[0m\u001b[0m\n",
      "\u001b[1;32mD:\\projects\\cost_control\\cost-control-backend\\env\\lib\\site-packages\\django\\db\\models\\query.py\u001b[0m in \u001b[0;36m_annotate\u001b[1;34m(self, args, kwargs, select)\u001b[0m\n\u001b[0;32m   1129\u001b[0m             \u001b[1;32melse\u001b[0m\u001b[1;33m:\u001b[0m\u001b[1;33m\u001b[0m\u001b[1;33m\u001b[0m\u001b[0m\n\u001b[0;32m   1130\u001b[0m                 clone.query.add_annotation(\n\u001b[1;32m-> 1131\u001b[1;33m                     \u001b[0mannotation\u001b[0m\u001b[1;33m,\u001b[0m \u001b[0malias\u001b[0m\u001b[1;33m,\u001b[0m \u001b[0mis_summary\u001b[0m\u001b[1;33m=\u001b[0m\u001b[1;32mFalse\u001b[0m\u001b[1;33m,\u001b[0m \u001b[0mselect\u001b[0m\u001b[1;33m=\u001b[0m\u001b[0mselect\u001b[0m\u001b[1;33m,\u001b[0m\u001b[1;33m\u001b[0m\u001b[1;33m\u001b[0m\u001b[0m\n\u001b[0m\u001b[0;32m   1132\u001b[0m                 )\n\u001b[0;32m   1133\u001b[0m         \u001b[1;32mfor\u001b[0m \u001b[0malias\u001b[0m\u001b[1;33m,\u001b[0m \u001b[0mannotation\u001b[0m \u001b[1;32min\u001b[0m \u001b[0mclone\u001b[0m\u001b[1;33m.\u001b[0m\u001b[0mquery\u001b[0m\u001b[1;33m.\u001b[0m\u001b[0mannotations\u001b[0m\u001b[1;33m.\u001b[0m\u001b[0mitems\u001b[0m\u001b[1;33m(\u001b[0m\u001b[1;33m)\u001b[0m\u001b[1;33m:\u001b[0m\u001b[1;33m\u001b[0m\u001b[1;33m\u001b[0m\u001b[0m\n",
      "\u001b[1;32mD:\\projects\\cost_control\\cost-control-backend\\env\\lib\\site-packages\\django\\db\\models\\sql\\query.py\u001b[0m in \u001b[0;36madd_annotation\u001b[1;34m(self, annotation, alias, is_summary, select)\u001b[0m\n\u001b[0;32m   1059\u001b[0m     \u001b[1;32mdef\u001b[0m \u001b[0madd_annotation\u001b[0m\u001b[1;33m(\u001b[0m\u001b[0mself\u001b[0m\u001b[1;33m,\u001b[0m \u001b[0mannotation\u001b[0m\u001b[1;33m,\u001b[0m \u001b[0malias\u001b[0m\u001b[1;33m,\u001b[0m \u001b[0mis_summary\u001b[0m\u001b[1;33m=\u001b[0m\u001b[1;32mFalse\u001b[0m\u001b[1;33m,\u001b[0m \u001b[0mselect\u001b[0m\u001b[1;33m=\u001b[0m\u001b[1;32mTrue\u001b[0m\u001b[1;33m)\u001b[0m\u001b[1;33m:\u001b[0m\u001b[1;33m\u001b[0m\u001b[1;33m\u001b[0m\u001b[0m\n\u001b[0;32m   1060\u001b[0m         \u001b[1;34m\"\"\"Add a single annotation expression to the Query.\"\"\"\u001b[0m\u001b[1;33m\u001b[0m\u001b[1;33m\u001b[0m\u001b[0m\n\u001b[1;32m-> 1061\u001b[1;33m         \u001b[0mself\u001b[0m\u001b[1;33m.\u001b[0m\u001b[0mcheck_alias\u001b[0m\u001b[1;33m(\u001b[0m\u001b[0malias\u001b[0m\u001b[1;33m)\u001b[0m\u001b[1;33m\u001b[0m\u001b[1;33m\u001b[0m\u001b[0m\n\u001b[0m\u001b[0;32m   1062\u001b[0m         annotation = annotation.resolve_expression(self, allow_joins=True, reuse=None,\n\u001b[0;32m   1063\u001b[0m                                                    summarize=is_summary)\n",
      "\u001b[1;32mD:\\projects\\cost_control\\cost-control-backend\\env\\lib\\site-packages\\django\\db\\models\\sql\\query.py\u001b[0m in \u001b[0;36mcheck_alias\u001b[1;34m(self, alias)\u001b[0m\n\u001b[0;32m   1053\u001b[0m         \u001b[1;32mif\u001b[0m \u001b[0mFORBIDDEN_ALIAS_PATTERN\u001b[0m\u001b[1;33m.\u001b[0m\u001b[0msearch\u001b[0m\u001b[1;33m(\u001b[0m\u001b[0malias\u001b[0m\u001b[1;33m)\u001b[0m\u001b[1;33m:\u001b[0m\u001b[1;33m\u001b[0m\u001b[1;33m\u001b[0m\u001b[0m\n\u001b[0;32m   1054\u001b[0m             raise ValueError(\n\u001b[1;32m-> 1055\u001b[1;33m                 \u001b[1;34m\"Column aliases cannot contain whitespace characters, quotation marks, \"\u001b[0m\u001b[1;33m\u001b[0m\u001b[1;33m\u001b[0m\u001b[0m\n\u001b[0m\u001b[0;32m   1056\u001b[0m                 \u001b[1;34m\"semicolons, or SQL comments.\"\u001b[0m\u001b[1;33m\u001b[0m\u001b[1;33m\u001b[0m\u001b[0m\n\u001b[0;32m   1057\u001b[0m             )\n",
      "\u001b[1;31mValueError\u001b[0m: Column aliases cannot contain whitespace characters, quotation marks, semicolons, or SQL comments."
     ]
    }
   ],
   "source": [
    "from django_pivot.pivot import pivot\n",
    "from contracts.models import TblCorporation\n",
    "\n",
    "contractCorporations = TblCorporation.objects.filter(contractid__exact=123467)\n",
    "\n",
    "pivot_table1 = pivot(contractCorporations, 'e_percent', 'companyid__company', 'e_percent')\n",
    "pivot_table1 = pivot_table1.exclude(e_percent__exact=0.0)\n",
    "\n",
    "pivot_table2 = pivot(contractCorporations, 'p_percent', 'companyid__company', 'p_percent')\n",
    "pivot_table2 = pivot_table2.exclude(p_percent__exact=0.0)\n",
    "\n",
    "pivot_table3 = pivot(contractCorporations, 'c_percent', 'companyid__company', 'c_percent')\n",
    "pivot_table3 = pivot_table3.exclude(c_percent__exact=0.0)\n",
    "\n",
    "result = pivot_table1.union(pivot_table2).union(pivot_table3)\n",
    "\n",
    "for row in result:\n",
    "    print(row)"
   ]
  },
  {
   "cell_type": "code",
   "execution_count": 7,
   "id": "25fc2384",
   "metadata": {},
   "outputs": [
    {
     "name": "stdout",
     "output_type": "stream",
     "text": [
      "احداث واحد اکسیژن طرح یزد یک\n"
     ]
    }
   ],
   "source": [
    "from contracts.models import TblContract\n",
    "from datetime import datetime\n",
    "\n",
    "contractId = 123477\n",
    "date = \"2020-08-31\"\n",
    "\n",
    "date_format = \"%Y-%m-%d\"\n",
    "startOperationDate = datetime.strptime(str(date), date_format)\n",
    "\n",
    "TblContract.objects.filter(contractid__exact=contractId).update(startoperationdate=startOperationDate)\n",
    "result = TblContract.objects.get(pk=contractId)\n",
    "print(result)\n"
   ]
  },
  {
   "cell_type": "code",
   "execution_count": 8,
   "id": "1ce7348b",
   "metadata": {},
   "outputs": [
    {
     "name": "stdout",
     "output_type": "stream",
     "text": [
      "<QuerySet []>\n"
     ]
    },
    {
     "ename": "AttributeError",
     "evalue": "Got AttributeError when attempting to get a value for field `contractid` on serializer `FinancialInfoSerializer`.\nThe serializer field might be named incorrectly and not match any attribute or key on the `int` instance.\nOriginal exception text was: 'int' object has no attribute 'contractid'.",
     "output_type": "error",
     "traceback": [
      "\u001b[1;31m---------------------------------------------------------------------------\u001b[0m",
      "\u001b[1;31mAttributeError\u001b[0m                            Traceback (most recent call last)",
      "\u001b[1;32mD:\\projects\\cost_control\\cost-control-backend\\env\\lib\\site-packages\\rest_framework\\fields.py\u001b[0m in \u001b[0;36mget_attribute\u001b[1;34m(self, instance)\u001b[0m\n\u001b[0;32m    445\u001b[0m         \u001b[1;32mtry\u001b[0m\u001b[1;33m:\u001b[0m\u001b[1;33m\u001b[0m\u001b[1;33m\u001b[0m\u001b[0m\n\u001b[1;32m--> 446\u001b[1;33m             \u001b[1;32mreturn\u001b[0m \u001b[0mget_attribute\u001b[0m\u001b[1;33m(\u001b[0m\u001b[0minstance\u001b[0m\u001b[1;33m,\u001b[0m \u001b[0mself\u001b[0m\u001b[1;33m.\u001b[0m\u001b[0msource_attrs\u001b[0m\u001b[1;33m)\u001b[0m\u001b[1;33m\u001b[0m\u001b[1;33m\u001b[0m\u001b[0m\n\u001b[0m\u001b[0;32m    447\u001b[0m         \u001b[1;32mexcept\u001b[0m \u001b[0mBuiltinSignatureError\u001b[0m \u001b[1;32mas\u001b[0m \u001b[0mexc\u001b[0m\u001b[1;33m:\u001b[0m\u001b[1;33m\u001b[0m\u001b[1;33m\u001b[0m\u001b[0m\n",
      "\u001b[1;32mD:\\projects\\cost_control\\cost-control-backend\\env\\lib\\site-packages\\rest_framework\\fields.py\u001b[0m in \u001b[0;36mget_attribute\u001b[1;34m(instance, attrs)\u001b[0m\n\u001b[0;32m     95\u001b[0m             \u001b[1;32melse\u001b[0m\u001b[1;33m:\u001b[0m\u001b[1;33m\u001b[0m\u001b[1;33m\u001b[0m\u001b[0m\n\u001b[1;32m---> 96\u001b[1;33m                 \u001b[0minstance\u001b[0m \u001b[1;33m=\u001b[0m \u001b[0mgetattr\u001b[0m\u001b[1;33m(\u001b[0m\u001b[0minstance\u001b[0m\u001b[1;33m,\u001b[0m \u001b[0mattr\u001b[0m\u001b[1;33m)\u001b[0m\u001b[1;33m\u001b[0m\u001b[1;33m\u001b[0m\u001b[0m\n\u001b[0m\u001b[0;32m     97\u001b[0m         \u001b[1;32mexcept\u001b[0m \u001b[0mObjectDoesNotExist\u001b[0m\u001b[1;33m:\u001b[0m\u001b[1;33m\u001b[0m\u001b[1;33m\u001b[0m\u001b[0m\n",
      "\u001b[1;31mAttributeError\u001b[0m: 'int' object has no attribute 'contractid'",
      "\nDuring handling of the above exception, another exception occurred:\n",
      "\u001b[1;31mAttributeError\u001b[0m                            Traceback (most recent call last)",
      "\u001b[1;32m~\\AppData\\Local\\Temp\\ipykernel_28236\\1929850914.py\u001b[0m in \u001b[0;36m<module>\u001b[1;34m\u001b[0m\n\u001b[0;32m      9\u001b[0m \u001b[0mserializer\u001b[0m \u001b[1;33m=\u001b[0m \u001b[0mFinancialInfoSerializer\u001b[0m\u001b[1;33m(\u001b[0m\u001b[0minstance\u001b[0m\u001b[1;33m=\u001b[0m\u001b[0mfinancialinfos\u001b[0m\u001b[1;33m[\u001b[0m\u001b[1;36m0\u001b[0m\u001b[1;33m]\u001b[0m \u001b[1;32mif\u001b[0m \u001b[0mlen\u001b[0m\u001b[1;33m(\u001b[0m\u001b[0mfinancialinfos\u001b[0m\u001b[1;33m)\u001b[0m \u001b[1;33m>\u001b[0m \u001b[1;36m0\u001b[0m \u001b[1;32melse\u001b[0m \u001b[1;36m0\u001b[0m\u001b[1;33m,\u001b[0m \u001b[0mmany\u001b[0m\u001b[1;33m=\u001b[0m\u001b[1;32mFalse\u001b[0m\u001b[1;33m)\u001b[0m\u001b[1;33m\u001b[0m\u001b[1;33m\u001b[0m\u001b[0m\n\u001b[0;32m     10\u001b[0m \u001b[1;33m\u001b[0m\u001b[0m\n\u001b[1;32m---> 11\u001b[1;33m \u001b[0mprint\u001b[0m\u001b[1;33m(\u001b[0m\u001b[0mserializer\u001b[0m\u001b[1;33m.\u001b[0m\u001b[0mdata\u001b[0m\u001b[1;33m)\u001b[0m\u001b[1;33m\u001b[0m\u001b[1;33m\u001b[0m\u001b[0m\n\u001b[0m",
      "\u001b[1;32mD:\\projects\\cost_control\\cost-control-backend\\env\\lib\\site-packages\\rest_framework\\serializers.py\u001b[0m in \u001b[0;36mdata\u001b[1;34m(self)\u001b[0m\n\u001b[0;32m    553\u001b[0m     \u001b[1;33m@\u001b[0m\u001b[0mproperty\u001b[0m\u001b[1;33m\u001b[0m\u001b[1;33m\u001b[0m\u001b[0m\n\u001b[0;32m    554\u001b[0m     \u001b[1;32mdef\u001b[0m \u001b[0mdata\u001b[0m\u001b[1;33m(\u001b[0m\u001b[0mself\u001b[0m\u001b[1;33m)\u001b[0m\u001b[1;33m:\u001b[0m\u001b[1;33m\u001b[0m\u001b[1;33m\u001b[0m\u001b[0m\n\u001b[1;32m--> 555\u001b[1;33m         \u001b[0mret\u001b[0m \u001b[1;33m=\u001b[0m \u001b[0msuper\u001b[0m\u001b[1;33m(\u001b[0m\u001b[1;33m)\u001b[0m\u001b[1;33m.\u001b[0m\u001b[0mdata\u001b[0m\u001b[1;33m\u001b[0m\u001b[1;33m\u001b[0m\u001b[0m\n\u001b[0m\u001b[0;32m    556\u001b[0m         \u001b[1;32mreturn\u001b[0m \u001b[0mReturnDict\u001b[0m\u001b[1;33m(\u001b[0m\u001b[0mret\u001b[0m\u001b[1;33m,\u001b[0m \u001b[0mserializer\u001b[0m\u001b[1;33m=\u001b[0m\u001b[0mself\u001b[0m\u001b[1;33m)\u001b[0m\u001b[1;33m\u001b[0m\u001b[1;33m\u001b[0m\u001b[0m\n\u001b[0;32m    557\u001b[0m \u001b[1;33m\u001b[0m\u001b[0m\n",
      "\u001b[1;32mD:\\projects\\cost_control\\cost-control-backend\\env\\lib\\site-packages\\rest_framework\\serializers.py\u001b[0m in \u001b[0;36mdata\u001b[1;34m(self)\u001b[0m\n\u001b[0;32m    251\u001b[0m         \u001b[1;32mif\u001b[0m \u001b[1;32mnot\u001b[0m \u001b[0mhasattr\u001b[0m\u001b[1;33m(\u001b[0m\u001b[0mself\u001b[0m\u001b[1;33m,\u001b[0m \u001b[1;34m'_data'\u001b[0m\u001b[1;33m)\u001b[0m\u001b[1;33m:\u001b[0m\u001b[1;33m\u001b[0m\u001b[1;33m\u001b[0m\u001b[0m\n\u001b[0;32m    252\u001b[0m             \u001b[1;32mif\u001b[0m \u001b[0mself\u001b[0m\u001b[1;33m.\u001b[0m\u001b[0minstance\u001b[0m \u001b[1;32mis\u001b[0m \u001b[1;32mnot\u001b[0m \u001b[1;32mNone\u001b[0m \u001b[1;32mand\u001b[0m \u001b[1;32mnot\u001b[0m \u001b[0mgetattr\u001b[0m\u001b[1;33m(\u001b[0m\u001b[0mself\u001b[0m\u001b[1;33m,\u001b[0m \u001b[1;34m'_errors'\u001b[0m\u001b[1;33m,\u001b[0m \u001b[1;32mNone\u001b[0m\u001b[1;33m)\u001b[0m\u001b[1;33m:\u001b[0m\u001b[1;33m\u001b[0m\u001b[1;33m\u001b[0m\u001b[0m\n\u001b[1;32m--> 253\u001b[1;33m                 \u001b[0mself\u001b[0m\u001b[1;33m.\u001b[0m\u001b[0m_data\u001b[0m \u001b[1;33m=\u001b[0m \u001b[0mself\u001b[0m\u001b[1;33m.\u001b[0m\u001b[0mto_representation\u001b[0m\u001b[1;33m(\u001b[0m\u001b[0mself\u001b[0m\u001b[1;33m.\u001b[0m\u001b[0minstance\u001b[0m\u001b[1;33m)\u001b[0m\u001b[1;33m\u001b[0m\u001b[1;33m\u001b[0m\u001b[0m\n\u001b[0m\u001b[0;32m    254\u001b[0m             \u001b[1;32melif\u001b[0m \u001b[0mhasattr\u001b[0m\u001b[1;33m(\u001b[0m\u001b[0mself\u001b[0m\u001b[1;33m,\u001b[0m \u001b[1;34m'_validated_data'\u001b[0m\u001b[1;33m)\u001b[0m \u001b[1;32mand\u001b[0m \u001b[1;32mnot\u001b[0m \u001b[0mgetattr\u001b[0m\u001b[1;33m(\u001b[0m\u001b[0mself\u001b[0m\u001b[1;33m,\u001b[0m \u001b[1;34m'_errors'\u001b[0m\u001b[1;33m,\u001b[0m \u001b[1;32mNone\u001b[0m\u001b[1;33m)\u001b[0m\u001b[1;33m:\u001b[0m\u001b[1;33m\u001b[0m\u001b[1;33m\u001b[0m\u001b[0m\n\u001b[0;32m    255\u001b[0m                 \u001b[0mself\u001b[0m\u001b[1;33m.\u001b[0m\u001b[0m_data\u001b[0m \u001b[1;33m=\u001b[0m \u001b[0mself\u001b[0m\u001b[1;33m.\u001b[0m\u001b[0mto_representation\u001b[0m\u001b[1;33m(\u001b[0m\u001b[0mself\u001b[0m\u001b[1;33m.\u001b[0m\u001b[0mvalidated_data\u001b[0m\u001b[1;33m)\u001b[0m\u001b[1;33m\u001b[0m\u001b[1;33m\u001b[0m\u001b[0m\n",
      "\u001b[1;32mD:\\projects\\cost_control\\cost-control-backend\\env\\lib\\site-packages\\rest_framework\\serializers.py\u001b[0m in \u001b[0;36mto_representation\u001b[1;34m(self, instance)\u001b[0m\n\u001b[0;32m    507\u001b[0m         \u001b[1;32mfor\u001b[0m \u001b[0mfield\u001b[0m \u001b[1;32min\u001b[0m \u001b[0mfields\u001b[0m\u001b[1;33m:\u001b[0m\u001b[1;33m\u001b[0m\u001b[1;33m\u001b[0m\u001b[0m\n\u001b[0;32m    508\u001b[0m             \u001b[1;32mtry\u001b[0m\u001b[1;33m:\u001b[0m\u001b[1;33m\u001b[0m\u001b[1;33m\u001b[0m\u001b[0m\n\u001b[1;32m--> 509\u001b[1;33m                 \u001b[0mattribute\u001b[0m \u001b[1;33m=\u001b[0m \u001b[0mfield\u001b[0m\u001b[1;33m.\u001b[0m\u001b[0mget_attribute\u001b[0m\u001b[1;33m(\u001b[0m\u001b[0minstance\u001b[0m\u001b[1;33m)\u001b[0m\u001b[1;33m\u001b[0m\u001b[1;33m\u001b[0m\u001b[0m\n\u001b[0m\u001b[0;32m    510\u001b[0m             \u001b[1;32mexcept\u001b[0m \u001b[0mSkipField\u001b[0m\u001b[1;33m:\u001b[0m\u001b[1;33m\u001b[0m\u001b[1;33m\u001b[0m\u001b[0m\n\u001b[0;32m    511\u001b[0m                 \u001b[1;32mcontinue\u001b[0m\u001b[1;33m\u001b[0m\u001b[1;33m\u001b[0m\u001b[0m\n",
      "\u001b[1;32mD:\\projects\\cost_control\\cost-control-backend\\env\\lib\\site-packages\\rest_framework\\relations.py\u001b[0m in \u001b[0;36mget_attribute\u001b[1;34m(self, instance)\u001b[0m\n\u001b[0;32m    188\u001b[0m \u001b[1;33m\u001b[0m\u001b[0m\n\u001b[0;32m    189\u001b[0m         \u001b[1;31m# Standard case, return the object instance.\u001b[0m\u001b[1;33m\u001b[0m\u001b[1;33m\u001b[0m\u001b[1;33m\u001b[0m\u001b[0m\n\u001b[1;32m--> 190\u001b[1;33m         \u001b[1;32mreturn\u001b[0m \u001b[0msuper\u001b[0m\u001b[1;33m(\u001b[0m\u001b[1;33m)\u001b[0m\u001b[1;33m.\u001b[0m\u001b[0mget_attribute\u001b[0m\u001b[1;33m(\u001b[0m\u001b[0minstance\u001b[0m\u001b[1;33m)\u001b[0m\u001b[1;33m\u001b[0m\u001b[1;33m\u001b[0m\u001b[0m\n\u001b[0m\u001b[0;32m    191\u001b[0m \u001b[1;33m\u001b[0m\u001b[0m\n\u001b[0;32m    192\u001b[0m     \u001b[1;32mdef\u001b[0m \u001b[0mget_choices\u001b[0m\u001b[1;33m(\u001b[0m\u001b[0mself\u001b[0m\u001b[1;33m,\u001b[0m \u001b[0mcutoff\u001b[0m\u001b[1;33m=\u001b[0m\u001b[1;32mNone\u001b[0m\u001b[1;33m)\u001b[0m\u001b[1;33m:\u001b[0m\u001b[1;33m\u001b[0m\u001b[1;33m\u001b[0m\u001b[0m\n",
      "\u001b[1;32mD:\\projects\\cost_control\\cost-control-backend\\env\\lib\\site-packages\\rest_framework\\fields.py\u001b[0m in \u001b[0;36mget_attribute\u001b[1;34m(self, instance)\u001b[0m\n\u001b[0;32m    477\u001b[0m                 )\n\u001b[0;32m    478\u001b[0m             )\n\u001b[1;32m--> 479\u001b[1;33m             \u001b[1;32mraise\u001b[0m \u001b[0mtype\u001b[0m\u001b[1;33m(\u001b[0m\u001b[0mexc\u001b[0m\u001b[1;33m)\u001b[0m\u001b[1;33m(\u001b[0m\u001b[0mmsg\u001b[0m\u001b[1;33m)\u001b[0m\u001b[1;33m\u001b[0m\u001b[1;33m\u001b[0m\u001b[0m\n\u001b[0m\u001b[0;32m    480\u001b[0m \u001b[1;33m\u001b[0m\u001b[0m\n\u001b[0;32m    481\u001b[0m     \u001b[1;32mdef\u001b[0m \u001b[0mget_default\u001b[0m\u001b[1;33m(\u001b[0m\u001b[0mself\u001b[0m\u001b[1;33m)\u001b[0m\u001b[1;33m:\u001b[0m\u001b[1;33m\u001b[0m\u001b[1;33m\u001b[0m\u001b[0m\n",
      "\u001b[1;31mAttributeError\u001b[0m: Got AttributeError when attempting to get a value for field `contractid` on serializer `FinancialInfoSerializer`.\nThe serializer field might be named incorrectly and not match any attribute or key on the `int` instance.\nOriginal exception text was: 'int' object has no attribute 'contractid'."
     ]
    }
   ],
   "source": [
    "from projects.models import TblwFinancialinfo\n",
    "from projects.serializers import FinancialInfoSerializer\n",
    "\n",
    "contractId = 123477\n",
    "dateId = 1116\n",
    "financialinfos = TblwFinancialinfo.objects.filter(contractid__exact=contractId, dateid__exact=dateId)\n",
    "print(financialinfos)\n",
    "\n",
    "serializer = FinancialInfoSerializer(instance=financialinfos[0] if len(financialinfos) > 0 else 0, many=False)\n",
    "\n",
    "print(serializer.data)\n"
   ]
  },
  {
   "cell_type": "code",
   "execution_count": 19,
   "id": "de4d43c4",
   "metadata": {},
   "outputs": [
    {
     "name": "stdout",
     "output_type": "stream",
     "text": [
      "<QuerySet []>\n",
      "0\n",
      "[OrderedDict([('contractid', 123469), ('contract', 'پالایشگاه نفت سنگین قشم')]), OrderedDict([('contractid', 123467), ('contract', 'گندله سنگان')]), OrderedDict([('contractid', 123468), ('contract', 'GOSP')]), OrderedDict([('contractid', 1234), ('contract', 'گندله سازی گهر زمین')]), OrderedDict([('contractid', 123465), ('contract', 'پروژه انتقال آب خلیج فارس')]), OrderedDict([('contractid', 123461), ('contract', 'سکوی سلمان')])]\n"
     ]
    }
   ],
   "source": [
    "from accounts.models import TblJuserrole\n",
    "from contracts.models import TblContract\n",
    "from contracts.serializers import ContractSerializerEx\n",
    "\n",
    "userid = 35\n",
    "all_contracts = TblJuserrole.objects.filter(userid__exact=userid, contractid__exact=None)\n",
    "print(all_contracts)\n",
    "print(len(all_contracts))\n",
    "      \n",
    "if(len(all_contracts) == 1):\n",
    "    contracts = TblContract.objects.all().order_by('-startdate')\n",
    "    serializer = ContractSerializerEx(contracts, many=True)\n",
    "else:\n",
    "    contracts = TblContract.objects.filter(Contract_UserRole__userid__exact=userid).order_by(\n",
    "        '-startdate').distinct()\n",
    "    serializer = ContractSerializerEx(contracts, many=True)\n",
    "print(serializer.data)"
   ]
  },
  {
   "cell_type": "code",
   "execution_count": 5,
   "id": "4790e995",
   "metadata": {},
   "outputs": [
    {
     "ename": "ImportError",
     "evalue": "cannot import name 'HseReportDox' from 'projects_files' (D:\\projects\\cost_control\\cost-control-backend\\main\\projects_files\\__init__.py)",
     "output_type": "error",
     "traceback": [
      "\u001b[1;31m---------------------------------------------------------------------------\u001b[0m",
      "\u001b[1;31mImportError\u001b[0m                               Traceback (most recent call last)",
      "\u001b[1;32m~\\AppData\\Local\\Temp\\ipykernel_12256\\1626565513.py\u001b[0m in \u001b[0;36m<module>\u001b[1;34m\u001b[0m\n\u001b[1;32m----> 1\u001b[1;33m \u001b[1;32mfrom\u001b[0m \u001b[0mprojects_files\u001b[0m \u001b[1;32mimport\u001b[0m \u001b[0mHseReportDox\u001b[0m\u001b[1;33m\u001b[0m\u001b[1;33m\u001b[0m\u001b[0m\n\u001b[0m\u001b[0;32m      2\u001b[0m \u001b[1;33m\u001b[0m\u001b[0m\n\u001b[0;32m      3\u001b[0m \u001b[0mresult\u001b[0m \u001b[1;33m=\u001b[0m \u001b[0mhseReportDox\u001b[0m \u001b[1;33m=\u001b[0m \u001b[0mHseReportDox\u001b[0m\u001b[1;33m.\u001b[0m\u001b[0mobjects\u001b[0m\u001b[1;33m.\u001b[0m\u001b[0mall\u001b[0m\u001b[1;33m(\u001b[0m\u001b[1;33m)\u001b[0m\u001b[1;33m\u001b[0m\u001b[1;33m\u001b[0m\u001b[0m\n\u001b[0;32m      4\u001b[0m \u001b[0mprint\u001b[0m\u001b[1;33m(\u001b[0m\u001b[0mresult\u001b[0m\u001b[1;33m)\u001b[0m\u001b[1;33m\u001b[0m\u001b[1;33m\u001b[0m\u001b[0m\n",
      "\u001b[1;31mImportError\u001b[0m: cannot import name 'HseReportDox' from 'projects_files' (D:\\projects\\cost_control\\cost-control-backend\\main\\projects_files\\__init__.py)"
     ]
    }
   ],
   "source": [
    "from projects_files.models import HseReportDox\n",
    "\n",
    "result = hseReportDox = HseReportDox.objects.all()\n",
    "print(result)"
   ]
  },
  {
   "cell_type": "code",
   "execution_count": 10,
   "id": "8d02d67b",
   "metadata": {},
   "outputs": [
    {
     "name": "stdout",
     "output_type": "stream",
     "text": [
      "1115\n",
      "0\n",
      "0\n",
      "[]\n"
     ]
    }
   ],
   "source": [
    "from projects.models import ReportDate\n",
    "from projects_files.models import Zone, ZoneImage\n",
    "from projects_files.serializers import ZoneSerializers\n",
    "\n",
    "contractId = 123477\n",
    "dateId = 1116\n",
    "\n",
    "last_dateId = ReportDate.objects.filter(dateid__lt=dateId).aggregate(Max('dateid'))['dateid__max']\n",
    "print(last_dateId)\n",
    "count = ZoneImage.objects.filter(zoneid__contractid__exact=contractId, dateid__exact=dateId).count()\n",
    "print(count)\n",
    "if count == 0:\n",
    "    zones = Zone.objects.filter(contractid__exact=contractId, Zone_Zoneimage__dateid__exact=last_dateId) \n",
    "                                    #  dateid__exact=last_dateId).exclude(Q(img1__exact=None) | \n",
    "                                    #                            Q(img2__exact=None) | \n",
    "                                    #                            Q(img3__exact=None)).values('zoneid')\n",
    "                \n",
    "    print(len(zones))\n",
    "    date = ReportDate.objects.get(pk=dateId)\n",
    "    for zone in zones:\n",
    "        ZoneImage.objects.create(zoneid=zone, dateid=date)\n",
    "\n",
    "zoneImage = ZoneImage.objects.filter(zoneid__contractid__exact=contractId, dateid__exact=dateId)\n",
    "serializer = ZoneSerializers(instance=zoneImage, many=True)\n",
    "print(serializer.data)"
   ]
  },
  {
   "cell_type": "code",
   "execution_count": 3,
   "id": "4a9b2f08",
   "metadata": {},
   "outputs": [
    {
     "name": "stdout",
     "output_type": "stream",
     "text": [
      "[]\n"
     ]
    }
   ],
   "source": [
    "from projects_files.models import InvoiceDox\n",
    "from projects_files.serializers import ApprovedInvoiceDoxSerializers\n",
    "\n",
    "contractId = 123476\n",
    "dateId = 1117\n",
    "approvedInvoiceDox = InvoiceDox.objects.filter(contractid__exact=contractId, dateid__exact=dateId)\n",
    "serializer = ApprovedInvoiceDoxSerializers(instance=approvedInvoiceDox, many=True)\n",
    "print(serializer.data)"
   ]
  },
  {
   "cell_type": "code",
   "execution_count": 4,
   "id": "d6939741",
   "metadata": {},
   "outputs": [
    {
     "ename": "DoesNotExist",
     "evalue": "Contract matching query does not exist.",
     "output_type": "error",
     "traceback": [
      "\u001b[1;31m---------------------------------------------------------------------------\u001b[0m",
      "\u001b[1;31mDoesNotExist\u001b[0m                              Traceback (most recent call last)",
      "\u001b[1;32m~\\AppData\\Local\\Temp\\ipykernel_18344\\3752698337.py\u001b[0m in \u001b[0;36m<module>\u001b[1;34m\u001b[0m\n\u001b[0;32m      6\u001b[0m \u001b[0mdateId\u001b[0m \u001b[1;33m=\u001b[0m \u001b[1;36m1119\u001b[0m\u001b[1;33m\u001b[0m\u001b[1;33m\u001b[0m\u001b[0m\n\u001b[0;32m      7\u001b[0m \u001b[1;33m\u001b[0m\u001b[0m\n\u001b[1;32m----> 8\u001b[1;33m \u001b[0mcontractBaseInfo\u001b[0m \u001b[1;33m=\u001b[0m \u001b[0mContract\u001b[0m\u001b[1;33m.\u001b[0m\u001b[0mobjects\u001b[0m\u001b[1;33m.\u001b[0m\u001b[0mget\u001b[0m\u001b[1;33m(\u001b[0m\u001b[0mpk\u001b[0m\u001b[1;33m=\u001b[0m\u001b[0mcontractId\u001b[0m\u001b[1;33m)\u001b[0m\u001b[1;33m\u001b[0m\u001b[1;33m\u001b[0m\u001b[0m\n\u001b[0m\u001b[0;32m      9\u001b[0m \u001b[0mserializer\u001b[0m \u001b[1;33m=\u001b[0m \u001b[0mContractBaseInfoSerializer\u001b[0m\u001b[1;33m(\u001b[0m\u001b[0minstance\u001b[0m\u001b[1;33m=\u001b[0m\u001b[0mcontractBaseInfo\u001b[0m\u001b[1;33m,\u001b[0m \u001b[0mmany\u001b[0m\u001b[1;33m=\u001b[0m\u001b[1;32mFalse\u001b[0m\u001b[1;33m)\u001b[0m\u001b[1;33m\u001b[0m\u001b[1;33m\u001b[0m\u001b[0m\n\u001b[0;32m     10\u001b[0m \u001b[1;33m\u001b[0m\u001b[0m\n",
      "\u001b[1;32mD:\\projects\\cost_control\\cost-control-backend\\env\\lib\\site-packages\\django\\db\\models\\manager.py\u001b[0m in \u001b[0;36mmanager_method\u001b[1;34m(self, *args, **kwargs)\u001b[0m\n\u001b[0;32m     83\u001b[0m         \u001b[1;32mdef\u001b[0m \u001b[0mcreate_method\u001b[0m\u001b[1;33m(\u001b[0m\u001b[0mname\u001b[0m\u001b[1;33m,\u001b[0m \u001b[0mmethod\u001b[0m\u001b[1;33m)\u001b[0m\u001b[1;33m:\u001b[0m\u001b[1;33m\u001b[0m\u001b[1;33m\u001b[0m\u001b[0m\n\u001b[0;32m     84\u001b[0m             \u001b[1;32mdef\u001b[0m \u001b[0mmanager_method\u001b[0m\u001b[1;33m(\u001b[0m\u001b[0mself\u001b[0m\u001b[1;33m,\u001b[0m \u001b[1;33m*\u001b[0m\u001b[0margs\u001b[0m\u001b[1;33m,\u001b[0m \u001b[1;33m**\u001b[0m\u001b[0mkwargs\u001b[0m\u001b[1;33m)\u001b[0m\u001b[1;33m:\u001b[0m\u001b[1;33m\u001b[0m\u001b[1;33m\u001b[0m\u001b[0m\n\u001b[1;32m---> 85\u001b[1;33m                 \u001b[1;32mreturn\u001b[0m \u001b[0mgetattr\u001b[0m\u001b[1;33m(\u001b[0m\u001b[0mself\u001b[0m\u001b[1;33m.\u001b[0m\u001b[0mget_queryset\u001b[0m\u001b[1;33m(\u001b[0m\u001b[1;33m)\u001b[0m\u001b[1;33m,\u001b[0m \u001b[0mname\u001b[0m\u001b[1;33m)\u001b[0m\u001b[1;33m(\u001b[0m\u001b[1;33m*\u001b[0m\u001b[0margs\u001b[0m\u001b[1;33m,\u001b[0m \u001b[1;33m**\u001b[0m\u001b[0mkwargs\u001b[0m\u001b[1;33m)\u001b[0m\u001b[1;33m\u001b[0m\u001b[1;33m\u001b[0m\u001b[0m\n\u001b[0m\u001b[0;32m     86\u001b[0m             \u001b[0mmanager_method\u001b[0m\u001b[1;33m.\u001b[0m\u001b[0m__name__\u001b[0m \u001b[1;33m=\u001b[0m \u001b[0mmethod\u001b[0m\u001b[1;33m.\u001b[0m\u001b[0m__name__\u001b[0m\u001b[1;33m\u001b[0m\u001b[1;33m\u001b[0m\u001b[0m\n\u001b[0;32m     87\u001b[0m             \u001b[0mmanager_method\u001b[0m\u001b[1;33m.\u001b[0m\u001b[0m__doc__\u001b[0m \u001b[1;33m=\u001b[0m \u001b[0mmethod\u001b[0m\u001b[1;33m.\u001b[0m\u001b[0m__doc__\u001b[0m\u001b[1;33m\u001b[0m\u001b[1;33m\u001b[0m\u001b[0m\n",
      "\u001b[1;32mD:\\projects\\cost_control\\cost-control-backend\\env\\lib\\site-packages\\django\\db\\models\\query.py\u001b[0m in \u001b[0;36mget\u001b[1;34m(self, *args, **kwargs)\u001b[0m\n\u001b[0;32m    435\u001b[0m             raise self.model.DoesNotExist(\n\u001b[0;32m    436\u001b[0m                 \u001b[1;34m\"%s matching query does not exist.\"\u001b[0m \u001b[1;33m%\u001b[0m\u001b[1;33m\u001b[0m\u001b[1;33m\u001b[0m\u001b[0m\n\u001b[1;32m--> 437\u001b[1;33m                 \u001b[0mself\u001b[0m\u001b[1;33m.\u001b[0m\u001b[0mmodel\u001b[0m\u001b[1;33m.\u001b[0m\u001b[0m_meta\u001b[0m\u001b[1;33m.\u001b[0m\u001b[0mobject_name\u001b[0m\u001b[1;33m\u001b[0m\u001b[1;33m\u001b[0m\u001b[0m\n\u001b[0m\u001b[0;32m    438\u001b[0m             )\n\u001b[0;32m    439\u001b[0m         raise self.model.MultipleObjectsReturned(\n",
      "\u001b[1;31mDoesNotExist\u001b[0m: Contract matching query does not exist."
     ]
    }
   ],
   "source": [
    "from contracts.models import Contract\n",
    "from projects.models import ReportConfirm\n",
    "from contracts.serializers import ContractBaseInfoSerializer\n",
    "\n",
    "contractId = 123477\n",
    "dateId = 1119\n",
    "\n",
    "contractBaseInfo = Contract.objects.get(pk=contractId)\n",
    "serializer = ContractBaseInfoSerializer(instance=contractBaseInfo, many=False)\n",
    "\n",
    "reportConfirmed = ReportConfirm.objects.filter(contractid__exact=contractId, dateid__exact=dateId, pm_c__gt=0)\n",
    "\n",
    "print(serializer.data)\n",
    "print(reportConfirmed)\n",
    "# if reportConfirmed is not None and len(reportConfirmed) > 0:\n",
    "#     print(reportConfirmed[0])\n"
   ]
  },
  {
   "cell_type": "code",
   "execution_count": 5,
   "id": "e28b3897",
   "metadata": {},
   "outputs": [],
   "source": [
    "from django.contrib.auth import get_user_model\n",
    "from accounts.models import UserRole\n",
    "from projects_files.models import *\n",
    "from projects_files.serializers import *\n",
    "\n",
    "contractId = 123477\n",
    "dateId = 1119\n",
    "userId = 99053\n",
    "reportId = 1\n",
    "\n",
    "user = get_user_model().objects.get(pk=userId)\n",
    "date = ReportDate.objects.get(pk=dateId)\n",
    "\n",
    "if(contractId == -1):\n",
    "    reportVisits = ReportVisit.objects.filter(userid__exact=userId, dateid__exact=dateId)\n",
    "    reportVisits.update(imagereport=1)\n",
    "\n",
    "    isAllProject = UserRole.objects.filter(userid__exact=userId, contractid__exact=None).count() > 0\n",
    "\n",
    "    if isAllProject:\n",
    "        contracts = Contract.objects.filter(iscompleted__exact=False).exclude(contractid__in=reportVisits)\n",
    "        for contract in contracts:\n",
    "            ReportVisit.objects.create(contractid=contract, dateid=date, userid=user, imagereport=1)\n",
    "    else:\n",
    "        userContractRole = UserRole.object.filter(userid__exact=userId)\n",
    "        contracts = Contract.objects.filter(contractid__in=userContractRole).exclude(contractid__in=reportVisits)\n",
    "        for contract in contracts:\n",
    "            ReportVisit.objects.create(contractid=contract, dateid=date, userid=user, imagereport=1)\n",
    "else: \n",
    "    reportVisits = ReportVisit.objects.filter(userid__exact=userId, contractid__exact=contractId, dateid__exact=dateId)\n",
    "    contracts = Contract.objects.filter(contractid__exact=contractId)\n",
    "    if len(contracts) == 1:\n",
    "        if len(reportVisits) == 0:\n",
    "            if reportId == 1:\n",
    "                reportVisit = ReportVisit.objects.create(userid=user, contractid=contracts[0], \n",
    "                                           dateid=date, financialinfo=1)\n",
    "\n",
    "                ReportVisitdate.objects.create(visitreportid=reportVisit, reportid=reportId)\n",
    "            elif reportId == 2:\n",
    "                reportVisit = ReportVisit.objects.create(userid__exact=user, contractid=contracts[0], \n",
    "                                           dateid__exact=date, hse=1)\n",
    "\n",
    "                ReportVisitdate.objects.create(visitreportid=reportVisit, reportid=reportId)\n",
    "            elif reportId == 3:\n",
    "                reportVisit = ReportVisit.objects.create(userid__exact=user, contractid__exact=contracts[0], \n",
    "                                           dateid__exact=date, progressstate=1)\n",
    "\n",
    "                ReportVisitdate.objects.create(visitreportid=reportVisit, reportid=reportId)\n",
    "            elif reportId == 4:\n",
    "                reportVisit = ReportVisit.objects.create(userid__exact=user, contractid__exact=contracts[0], \n",
    "                                           dateid__exact=dateId, timeprogressstate__exact=1)\n",
    "\n",
    "                ReportVisitdate.objects.create(visitreportid=reportVisit, reportid=reportId)\n",
    "            elif reportId == 5:\n",
    "                reportVisit = ReportVisit.objects.create(userid__exact=user, contractid__exact=contracts[0], \n",
    "                                           dateid__exact=dateId, invoice__exact=1)\n",
    "\n",
    "                ReportVisitdate.object.create(visitreportid=reportVisit, reportid=reportId)\n",
    "            elif reportId == 6:\n",
    "                reportVisit = ReportVisit.objects.create(userid__exact=user, contractid__exact=contracts[0], \n",
    "                                           dateid__exact=dateId, financialinvoice__exact=1)\n",
    "\n",
    "                ReportVisitdate.object.create(visitreportid=reportVisit, reportid=reportId)\n",
    "            elif reportId == 7:\n",
    "                reportVisit = ReportVisit.objects.create(userid__exact=user, contractid__exact=contracts[0], \n",
    "                                           dateid__exact=dateId, workvolume__exact=1)\n",
    "\n",
    "                ReportVisitdate.objects.create(visitreportid=reportVisit, reportid=reportId)\n",
    "            elif reportId == 8:\n",
    "                reportVisit = ReportVisit.objects.create(userid__exact=user, contractid__exact=contracts[0], \n",
    "                                           dateid__exact=dateId, pmsprogress__exact=1)\n",
    "\n",
    "                ReportVisitdate.objects.create(visitreportid=reportVisit, reportid=reportId)\n",
    "            elif reportId == 9:\n",
    "                reportVisit = ReportVisit.objects.create(userid__exact=user, contractid__exact=contracts[0], \n",
    "                                           dateid__exact=dateId, budget__exact=1)\n",
    "\n",
    "                ReportVisitdate.objects.create(visitreportid=reportVisit, reportid=reportId)\n",
    "\n",
    "            elif reportId == 10:\n",
    "                reportVisit = ReportVisit.objects.create(userid__exact=user, contractid__exact=contracts[0], \n",
    "                                           dateid__exact=dateId, machinary__exact=1)\n",
    "\n",
    "                ReportVisitdate.objects.create(visitreportid=reportVisit, reportid=reportId)\n",
    "            elif reportId == 11:\n",
    "                reportVisit = ReportVisit.objects.create(userid__exact=user, contractid__exact=contracts[0], \n",
    "                                           dateid__exact=dateId, personel__exact=1)\n",
    "\n",
    "                ReportVisitdate.objects.create(visitreportid=reportVisit, reportid=reportId)\n",
    "            elif reportId == 12:\n",
    "                reportVisit = ReportVisit.objects.create(userid__exact=user, contractid__exact=contracts[0], \n",
    "                                           dateid__exact=dateId, problems__exact=1)\n",
    "\n",
    "                ReportVisitdate.objects.create(visitreportid=reportVisit, reportid=reportId)\n",
    "            elif reportId == 13:\n",
    "                reportVisit = ReportVisit.objects.create(userid__exact=user, contractid__exact=contracts[0], \n",
    "                                           dateid__exact=dateId, criticalactions__exact=1)\n",
    "\n",
    "                ReportVisitdate.objects.create(visitreportid=reportVisit, reportid=reportId)\n",
    "\n",
    "            elif reportId == 14:\n",
    "                reportVisit = ReportVisit.objects.create(userid__exact=user, contractid__exact=contracts[0], \n",
    "                                           dateid__exact=dateId, zoneimages__exact=1)\n",
    "\n",
    "                ReportVisitdate.objects.create(visitreportid=reportVisit, reportid=reportId)\n",
    "            elif reportId == 15:\n",
    "                reportVisit = ReportVisit.objects.create(userid__exact=user, contractid__exact=contracts[0], \n",
    "                                           dateid__exact=dateId, projectdox__exact=1)\n",
    "\n",
    "                ReportVisitdate.objects.create(visitreportid=reportVisit, reportid=reportId)\n",
    "            elif reportId == 16:\n",
    "                reportVisit = ReportVisit.objects.create(userid__exact=user, contractid__exact=contracts[0], \n",
    "                                           dateid__exact=dateId, durationdox__exact=1)\n",
    "\n",
    "                ReportVisitdate.objects.create(visitreportid=reportVisit, reportid=reportId)\n",
    "            elif reportId == 17:\n",
    "                reportVisit = ReportVisit.objects.create(userid__exact=user, contractid__exact=contracts[0], \n",
    "                                           dateid__exact=dateId, dashboard_r__exact=1)\n",
    "\n",
    "                ReportVisitdate.objects.create(visitreportid=reportVisit, reportid=reportId)\n",
    "\n",
    "            elif reportId == 18:\n",
    "                reportVisit = ReportVisit.objects.create(userid__exact=user, contractid__exact=contracts[0], \n",
    "                                           dateid__exact=dateId, dashboard_fc__exact=1)\n",
    "\n",
    "                ReportVisitdate.objects.create(visitreportid=reportVisit, reportid=reportId)\n",
    "            elif reportId == 19:\n",
    "                reportVisit = ReportVisit.objects.create(userid__exact=user, contractid__exact=contracts[0], \n",
    "                                           dateid__exact=dateId, imagereport__exact=1)\n",
    "\n",
    "                ReportVisitdate.object.create(visitreportid=reportVisit, reportid=reportId)\n",
    "        elif len(reportVisits) == 1:\n",
    "            if reportId == 1:\n",
    "                reportVisits[0].financialinfo = 1\n",
    "                reportVisits[0].save()\n",
    "\n",
    "                ReportVisitdate.objects.create(visitreportid=reportVisits[0], reportid=reportId)\n",
    "            elif reportId == 2:\n",
    "                reportVisits[0].hse = 1\n",
    "                reportVisits[0].save()\n",
    "\n",
    "                ReportVisitdate.objects.create(visitreportid=reportVisits[0], reportid=reportId)\n",
    "            elif reportId == 3:\n",
    "                reportVisits[0].progressstate = 1\n",
    "                reportVisits[0].save()\n",
    "\n",
    "                ReportVisitdate.objects.create(visitreportid=reportVisits[0], reportid=reportId)\n",
    "            elif reportId == 4:\n",
    "                reportVisits[0].timeprogressstate = 1\n",
    "                reportVisits[0].save()\n",
    "\n",
    "                ReportVisitdate.objects.create(visitreportid=reportVisits[0], reportid=reportId)\n",
    "            elif reportId == 5:\n",
    "                reportVisits[0].invoice = 1\n",
    "                reportVisits[0].save()\n",
    "\n",
    "                ReportVisitdate.objects.create(visitreportid=reportVisits[0], reportid=reportId)\n",
    "            elif reportId == 6:\n",
    "                reportVisits[0].financialinvoice = 1\n",
    "                reportVisits[0].save()\n",
    "\n",
    "                ReportVisitdate.objects.create(visitreportid=reportVisits[0], reportid=reportId)\n",
    "            elif reportId == 7:\n",
    "                reportVisits[0].workvolume = 1\n",
    "                reportVisits[0].save()\n",
    "\n",
    "                ReportVisitdate.objects.create(visitreportid=reportVisits[0], reportid=reportId)\n",
    "            elif reportId == 8:\n",
    "                reportVisits[0].pmsprogress = 1\n",
    "                reportVisits[0].save()\n",
    "\n",
    "                ReportVisitdate.objects.create(visitreportid=reportVisits[0], reportid=reportId)\n",
    "            elif reportId == 9:\n",
    "                reportVisits[0].budget = 1\n",
    "                reportVisits[0].save()\n",
    "\n",
    "                ReportVisitdate.objects.create(visitreportid=reportVisits[0], reportid=reportId)\n",
    "\n",
    "            elif reportId == 10:\n",
    "                reportVisits[0].machinary = 1\n",
    "                reportVisits[0].save()\n",
    "\n",
    "                ReportVisitdate.objects.create(visitreportid=reportVisits[0], reportid=reportId)\n",
    "            elif reportId == 11:\n",
    "                reportVisits[0].personel = 1\n",
    "                reportVisits[0].save()\n",
    "\n",
    "                ReportVisitdate.objects.create(visitreportid=reportVisits[0], reportid=reportId)\n",
    "            elif reportId == 12:\n",
    "                reportVisits[0].problems = 1\n",
    "                reportVisits[0].save()\n",
    "\n",
    "                ReportVisitdate.objects.create(visitreportid=reportVisits[0], reportid=reportId)\n",
    "            elif reportId == 13:\n",
    "                reportVisits[0].criticalactions = 1\n",
    "                reportVisits[0].save()\n",
    "\n",
    "                ReportVisitdate.objects.create(visitreportid=reportVisits[0], reportid=reportId)\n",
    "            elif reportId == 14:\n",
    "                reportVisits[0].zoneimages = 1\n",
    "                reportVisits[0].save()\n",
    "\n",
    "                ReportVisitdate.objects.create(visitreportid=reportVisits[0], reportid=reportId)\n",
    "            elif reportId == 15:\n",
    "                reportVisits[0].projectdox = 1\n",
    "                reportVisits[0].save()\n",
    "\n",
    "                ReportVisitdate.objects.create(visitreportid=reportVisits[0], reportid=reportId)\n",
    "            elif reportId == 16:\n",
    "                reportVisits[0].durationdox = 1\n",
    "                reportVisits[0].save()\n",
    "\n",
    "                ReportVisitdate.objects.create(visitreportid=reportVisits[0], reportid=reportId)\n",
    "            elif reportId == 17:\n",
    "                reportVisits[0].dashboard_r = 1\n",
    "                reportVisits[0].save()\n",
    "\n",
    "                ReportVisitdate.objects.create(visitreportid=reportVisits[0], reportid=reportId)\n",
    "\n",
    "            elif reportId == 18:\n",
    "                reportVisits[0].dashboard_fc = 1\n",
    "                reportVisits[0].save()\n",
    "\n",
    "                ReportVisitdate.objects.create(visitreportid=reportVisits[0], reportid=reportId)\n",
    "            elif reportId == 19:\n",
    "                reportVisits[0].imagereport = 1\n",
    "                reportVisits[0].save()\n",
    "\n",
    "                ReportVisitdate.objects.create(visitreportid=reportVisits[0], reportid=reportId)\n",
    "                \n",
    "\n",
    "        "
   ]
  },
  {
   "cell_type": "code",
   "execution_count": 4,
   "id": "a4118132",
   "metadata": {},
   "outputs": [
    {
     "ename": "AttributeError",
     "evalue": "type object 'ReportVisitdate' has no attribute 'object'",
     "output_type": "error",
     "traceback": [
      "\u001b[1;31m---------------------------------------------------------------------------\u001b[0m",
      "\u001b[1;31mAttributeError\u001b[0m                            Traceback (most recent call last)",
      "\u001b[1;32m~\\AppData\\Local\\Temp\\ipykernel_5840\\100436660.py\u001b[0m in \u001b[0;36m<module>\u001b[1;34m\u001b[0m\n\u001b[0;32m     37\u001b[0m                                        dateid=date, financialinfo=1)\n\u001b[0;32m     38\u001b[0m \u001b[1;33m\u001b[0m\u001b[0m\n\u001b[1;32m---> 39\u001b[1;33m             \u001b[0mReportVisitdate\u001b[0m\u001b[1;33m.\u001b[0m\u001b[0mobject\u001b[0m\u001b[1;33m.\u001b[0m\u001b[0mcreate\u001b[0m\u001b[1;33m(\u001b[0m\u001b[0mvisitreportid\u001b[0m\u001b[1;33m=\u001b[0m\u001b[0mreportVisit\u001b[0m\u001b[1;33m,\u001b[0m \u001b[0mreportid\u001b[0m\u001b[1;33m=\u001b[0m\u001b[0mreportId\u001b[0m\u001b[1;33m)\u001b[0m\u001b[1;33m\u001b[0m\u001b[1;33m\u001b[0m\u001b[0m\n\u001b[0m",
      "\u001b[1;31mAttributeError\u001b[0m: type object 'ReportVisitdate' has no attribute 'object'"
     ]
    }
   ],
   "source": [
    "from django.contrib.auth import get_user_model\n",
    "from accounts.models import UserRole\n",
    "from projects_files.models import *\n",
    "from projects_files.serializers import *\n",
    "\n",
    "contractId = 123477\n",
    "dateId = 1119\n",
    "userId = 99053\n",
    "reportId = 1\n",
    "\n",
    "user = get_user_model().objects.get(pk=userId)\n",
    "date = ReportDate.objects.get(pk=dateId)\n",
    "\n",
    "# if(contractId == -1):\n",
    "#     reportVisits = ReportVisit.objects.filter(userid__exact=userId, dateid__exact=dateId)\n",
    "#     reportVisits.update(imagereport=1)\n",
    "\n",
    "#     isAllProject = UserRole.objects.filter(userid__exact=userId, contractid__exact=None).count() > 0\n",
    "\n",
    "#     if isAllProject:\n",
    "#         contracts = Contract.objects.filter(iscompleted__exact=False).exclude(contractid__in=reportVisits)\n",
    "#         for contract in contracts:\n",
    "#             ReportVisit.objects.create(contractid=contract, dateid=date, userid=user, imagereport=1)\n",
    "#     else:\n",
    "#         userContractRole = UserRole.object.filter(userid__exact=userId)\n",
    "#         contracts = Contract.objects.filter(contractid__in=userContractRole).exclude(contractid__in=reportVisits)\n",
    "#         for contract in contracts:\n",
    "#             ReportVisit.objects.create(contractid=contract, dateid=date, userid=user, imagereport=1)\n",
    "# else: \n",
    "\n",
    "reportVisits = ReportVisit.objects.filter(userid__exact=userId, contractid__exact=contractId, dateid__exact=dateId)\n",
    "contracts = Contract.objects.filter(contractid__exact=contractId)\n",
    "if len(contracts) == 1:\n",
    "    if len(reportVisits) == 0:\n",
    "        if reportId == 1:\n",
    "            reportVisit = ReportVisit.objects.create(userid=user, contractid=contracts[0], \n",
    "                                       dateid=date, financialinfo=1)\n",
    "\n",
    "            ReportVisitdate.objects.create(visitreportid=reportVisit, reportid=reportId)"
   ]
  },
  {
   "cell_type": "code",
   "execution_count": 21,
   "id": "7c2656a3",
   "metadata": {},
   "outputs": [
    {
     "name": "stdout",
     "output_type": "stream",
     "text": [
      "{'zone': 'zone1', 'img': '', 'description': ''}\n",
      "{'zone': 'zone1', 'img': 'zone_images/cell-icon1.png', 'description': 'test11'}\n",
      "{'zone': 'zone1', 'img': 'zone_images/cell-icon1.png', 'description': 'test2'}\n",
      "{'zone': 'zone1', 'img': 'zone_images/HSE.png', 'description': 'test1'}\n",
      "{'zone': 'zone1', 'img': 'zone_images/linkedin-icon.png', 'description': 'test1'}\n",
      "{'zone': 'zone1', 'img': 'zone_images/linkedin-icon.png', 'description': 'test33'}\n",
      "{'zone': 'zone1', 'img': 'zone_images/location-icon.png', 'description': 'test3'}\n",
      "{'zone': 'zone1', 'img': 'zone_images/skype-icon.jpg', 'description': 'test22'}\n"
     ]
    },
    {
     "ename": "AttributeError",
     "evalue": "Got AttributeError when attempting to get a value for field `zone` on serializer `ReportZoneImagesSerializers`.\nThe serializer field might be named incorrectly and not match any attribute or key on the `QuerySet` instance.\nOriginal exception text was: 'QuerySet' object has no attribute 'zone'.",
     "output_type": "error",
     "traceback": [
      "\u001b[1;31m---------------------------------------------------------------------------\u001b[0m",
      "\u001b[1;31mAttributeError\u001b[0m                            Traceback (most recent call last)",
      "\u001b[1;32mD:\\projects\\cost_control\\cost-control-backend\\env\\lib\\site-packages\\rest_framework\\fields.py\u001b[0m in \u001b[0;36mget_attribute\u001b[1;34m(self, instance)\u001b[0m\n\u001b[0;32m    445\u001b[0m         \u001b[1;32mtry\u001b[0m\u001b[1;33m:\u001b[0m\u001b[1;33m\u001b[0m\u001b[1;33m\u001b[0m\u001b[0m\n\u001b[1;32m--> 446\u001b[1;33m             \u001b[1;32mreturn\u001b[0m \u001b[0mget_attribute\u001b[0m\u001b[1;33m(\u001b[0m\u001b[0minstance\u001b[0m\u001b[1;33m,\u001b[0m \u001b[0mself\u001b[0m\u001b[1;33m.\u001b[0m\u001b[0msource_attrs\u001b[0m\u001b[1;33m)\u001b[0m\u001b[1;33m\u001b[0m\u001b[1;33m\u001b[0m\u001b[0m\n\u001b[0m\u001b[0;32m    447\u001b[0m         \u001b[1;32mexcept\u001b[0m \u001b[0mBuiltinSignatureError\u001b[0m \u001b[1;32mas\u001b[0m \u001b[0mexc\u001b[0m\u001b[1;33m:\u001b[0m\u001b[1;33m\u001b[0m\u001b[1;33m\u001b[0m\u001b[0m\n",
      "\u001b[1;32mD:\\projects\\cost_control\\cost-control-backend\\env\\lib\\site-packages\\rest_framework\\fields.py\u001b[0m in \u001b[0;36mget_attribute\u001b[1;34m(instance, attrs)\u001b[0m\n\u001b[0;32m     95\u001b[0m             \u001b[1;32melse\u001b[0m\u001b[1;33m:\u001b[0m\u001b[1;33m\u001b[0m\u001b[1;33m\u001b[0m\u001b[0m\n\u001b[1;32m---> 96\u001b[1;33m                 \u001b[0minstance\u001b[0m \u001b[1;33m=\u001b[0m \u001b[0mgetattr\u001b[0m\u001b[1;33m(\u001b[0m\u001b[0minstance\u001b[0m\u001b[1;33m,\u001b[0m \u001b[0mattr\u001b[0m\u001b[1;33m)\u001b[0m\u001b[1;33m\u001b[0m\u001b[1;33m\u001b[0m\u001b[0m\n\u001b[0m\u001b[0;32m     97\u001b[0m         \u001b[1;32mexcept\u001b[0m \u001b[0mObjectDoesNotExist\u001b[0m\u001b[1;33m:\u001b[0m\u001b[1;33m\u001b[0m\u001b[1;33m\u001b[0m\u001b[0m\n",
      "\u001b[1;31mAttributeError\u001b[0m: 'QuerySet' object has no attribute 'zone'",
      "\nDuring handling of the above exception, another exception occurred:\n",
      "\u001b[1;31mAttributeError\u001b[0m                            Traceback (most recent call last)",
      "\u001b[1;32m~\\AppData\\Local\\Temp\\ipykernel_1100\\4129052600.py\u001b[0m in \u001b[0;36m<module>\u001b[1;34m\u001b[0m\n\u001b[0;32m     28\u001b[0m \u001b[0mserializer\u001b[0m \u001b[1;33m=\u001b[0m \u001b[0mReportZoneImagesSerializers\u001b[0m\u001b[1;33m(\u001b[0m\u001b[0mzoneImages\u001b[0m\u001b[1;33m)\u001b[0m\u001b[1;33m\u001b[0m\u001b[1;33m\u001b[0m\u001b[0m\n\u001b[0;32m     29\u001b[0m \u001b[1;33m\u001b[0m\u001b[0m\n\u001b[1;32m---> 30\u001b[1;33m \u001b[0mprint\u001b[0m\u001b[1;33m(\u001b[0m\u001b[0mserializer\u001b[0m\u001b[1;33m.\u001b[0m\u001b[0mdata\u001b[0m\u001b[1;33m)\u001b[0m\u001b[1;33m\u001b[0m\u001b[1;33m\u001b[0m\u001b[0m\n\u001b[0m",
      "\u001b[1;32mD:\\projects\\cost_control\\cost-control-backend\\env\\lib\\site-packages\\rest_framework\\serializers.py\u001b[0m in \u001b[0;36mdata\u001b[1;34m(self)\u001b[0m\n\u001b[0;32m    553\u001b[0m     \u001b[1;33m@\u001b[0m\u001b[0mproperty\u001b[0m\u001b[1;33m\u001b[0m\u001b[1;33m\u001b[0m\u001b[0m\n\u001b[0;32m    554\u001b[0m     \u001b[1;32mdef\u001b[0m \u001b[0mdata\u001b[0m\u001b[1;33m(\u001b[0m\u001b[0mself\u001b[0m\u001b[1;33m)\u001b[0m\u001b[1;33m:\u001b[0m\u001b[1;33m\u001b[0m\u001b[1;33m\u001b[0m\u001b[0m\n\u001b[1;32m--> 555\u001b[1;33m         \u001b[0mret\u001b[0m \u001b[1;33m=\u001b[0m \u001b[0msuper\u001b[0m\u001b[1;33m(\u001b[0m\u001b[1;33m)\u001b[0m\u001b[1;33m.\u001b[0m\u001b[0mdata\u001b[0m\u001b[1;33m\u001b[0m\u001b[1;33m\u001b[0m\u001b[0m\n\u001b[0m\u001b[0;32m    556\u001b[0m         \u001b[1;32mreturn\u001b[0m \u001b[0mReturnDict\u001b[0m\u001b[1;33m(\u001b[0m\u001b[0mret\u001b[0m\u001b[1;33m,\u001b[0m \u001b[0mserializer\u001b[0m\u001b[1;33m=\u001b[0m\u001b[0mself\u001b[0m\u001b[1;33m)\u001b[0m\u001b[1;33m\u001b[0m\u001b[1;33m\u001b[0m\u001b[0m\n\u001b[0;32m    557\u001b[0m \u001b[1;33m\u001b[0m\u001b[0m\n",
      "\u001b[1;32mD:\\projects\\cost_control\\cost-control-backend\\env\\lib\\site-packages\\rest_framework\\serializers.py\u001b[0m in \u001b[0;36mdata\u001b[1;34m(self)\u001b[0m\n\u001b[0;32m    251\u001b[0m         \u001b[1;32mif\u001b[0m \u001b[1;32mnot\u001b[0m \u001b[0mhasattr\u001b[0m\u001b[1;33m(\u001b[0m\u001b[0mself\u001b[0m\u001b[1;33m,\u001b[0m \u001b[1;34m'_data'\u001b[0m\u001b[1;33m)\u001b[0m\u001b[1;33m:\u001b[0m\u001b[1;33m\u001b[0m\u001b[1;33m\u001b[0m\u001b[0m\n\u001b[0;32m    252\u001b[0m             \u001b[1;32mif\u001b[0m \u001b[0mself\u001b[0m\u001b[1;33m.\u001b[0m\u001b[0minstance\u001b[0m \u001b[1;32mis\u001b[0m \u001b[1;32mnot\u001b[0m \u001b[1;32mNone\u001b[0m \u001b[1;32mand\u001b[0m \u001b[1;32mnot\u001b[0m \u001b[0mgetattr\u001b[0m\u001b[1;33m(\u001b[0m\u001b[0mself\u001b[0m\u001b[1;33m,\u001b[0m \u001b[1;34m'_errors'\u001b[0m\u001b[1;33m,\u001b[0m \u001b[1;32mNone\u001b[0m\u001b[1;33m)\u001b[0m\u001b[1;33m:\u001b[0m\u001b[1;33m\u001b[0m\u001b[1;33m\u001b[0m\u001b[0m\n\u001b[1;32m--> 253\u001b[1;33m                 \u001b[0mself\u001b[0m\u001b[1;33m.\u001b[0m\u001b[0m_data\u001b[0m \u001b[1;33m=\u001b[0m \u001b[0mself\u001b[0m\u001b[1;33m.\u001b[0m\u001b[0mto_representation\u001b[0m\u001b[1;33m(\u001b[0m\u001b[0mself\u001b[0m\u001b[1;33m.\u001b[0m\u001b[0minstance\u001b[0m\u001b[1;33m)\u001b[0m\u001b[1;33m\u001b[0m\u001b[1;33m\u001b[0m\u001b[0m\n\u001b[0m\u001b[0;32m    254\u001b[0m             \u001b[1;32melif\u001b[0m \u001b[0mhasattr\u001b[0m\u001b[1;33m(\u001b[0m\u001b[0mself\u001b[0m\u001b[1;33m,\u001b[0m \u001b[1;34m'_validated_data'\u001b[0m\u001b[1;33m)\u001b[0m \u001b[1;32mand\u001b[0m \u001b[1;32mnot\u001b[0m \u001b[0mgetattr\u001b[0m\u001b[1;33m(\u001b[0m\u001b[0mself\u001b[0m\u001b[1;33m,\u001b[0m \u001b[1;34m'_errors'\u001b[0m\u001b[1;33m,\u001b[0m \u001b[1;32mNone\u001b[0m\u001b[1;33m)\u001b[0m\u001b[1;33m:\u001b[0m\u001b[1;33m\u001b[0m\u001b[1;33m\u001b[0m\u001b[0m\n\u001b[0;32m    255\u001b[0m                 \u001b[0mself\u001b[0m\u001b[1;33m.\u001b[0m\u001b[0m_data\u001b[0m \u001b[1;33m=\u001b[0m \u001b[0mself\u001b[0m\u001b[1;33m.\u001b[0m\u001b[0mto_representation\u001b[0m\u001b[1;33m(\u001b[0m\u001b[0mself\u001b[0m\u001b[1;33m.\u001b[0m\u001b[0mvalidated_data\u001b[0m\u001b[1;33m)\u001b[0m\u001b[1;33m\u001b[0m\u001b[1;33m\u001b[0m\u001b[0m\n",
      "\u001b[1;32mD:\\projects\\cost_control\\cost-control-backend\\env\\lib\\site-packages\\rest_framework\\serializers.py\u001b[0m in \u001b[0;36mto_representation\u001b[1;34m(self, instance)\u001b[0m\n\u001b[0;32m    507\u001b[0m         \u001b[1;32mfor\u001b[0m \u001b[0mfield\u001b[0m \u001b[1;32min\u001b[0m \u001b[0mfields\u001b[0m\u001b[1;33m:\u001b[0m\u001b[1;33m\u001b[0m\u001b[1;33m\u001b[0m\u001b[0m\n\u001b[0;32m    508\u001b[0m             \u001b[1;32mtry\u001b[0m\u001b[1;33m:\u001b[0m\u001b[1;33m\u001b[0m\u001b[1;33m\u001b[0m\u001b[0m\n\u001b[1;32m--> 509\u001b[1;33m                 \u001b[0mattribute\u001b[0m \u001b[1;33m=\u001b[0m \u001b[0mfield\u001b[0m\u001b[1;33m.\u001b[0m\u001b[0mget_attribute\u001b[0m\u001b[1;33m(\u001b[0m\u001b[0minstance\u001b[0m\u001b[1;33m)\u001b[0m\u001b[1;33m\u001b[0m\u001b[1;33m\u001b[0m\u001b[0m\n\u001b[0m\u001b[0;32m    510\u001b[0m             \u001b[1;32mexcept\u001b[0m \u001b[0mSkipField\u001b[0m\u001b[1;33m:\u001b[0m\u001b[1;33m\u001b[0m\u001b[1;33m\u001b[0m\u001b[0m\n\u001b[0;32m    511\u001b[0m                 \u001b[1;32mcontinue\u001b[0m\u001b[1;33m\u001b[0m\u001b[1;33m\u001b[0m\u001b[0m\n",
      "\u001b[1;32mD:\\projects\\cost_control\\cost-control-backend\\env\\lib\\site-packages\\rest_framework\\fields.py\u001b[0m in \u001b[0;36mget_attribute\u001b[1;34m(self, instance)\u001b[0m\n\u001b[0;32m    477\u001b[0m                 )\n\u001b[0;32m    478\u001b[0m             )\n\u001b[1;32m--> 479\u001b[1;33m             \u001b[1;32mraise\u001b[0m \u001b[0mtype\u001b[0m\u001b[1;33m(\u001b[0m\u001b[0mexc\u001b[0m\u001b[1;33m)\u001b[0m\u001b[1;33m(\u001b[0m\u001b[0mmsg\u001b[0m\u001b[1;33m)\u001b[0m\u001b[1;33m\u001b[0m\u001b[1;33m\u001b[0m\u001b[0m\n\u001b[0m\u001b[0;32m    480\u001b[0m \u001b[1;33m\u001b[0m\u001b[0m\n\u001b[0;32m    481\u001b[0m     \u001b[1;32mdef\u001b[0m \u001b[0mget_default\u001b[0m\u001b[1;33m(\u001b[0m\u001b[0mself\u001b[0m\u001b[1;33m)\u001b[0m\u001b[1;33m:\u001b[0m\u001b[1;33m\u001b[0m\u001b[1;33m\u001b[0m\u001b[0m\n",
      "\u001b[1;31mAttributeError\u001b[0m: Got AttributeError when attempting to get a value for field `zone` on serializer `ReportZoneImagesSerializers`.\nThe serializer field might be named incorrectly and not match any attribute or key on the `QuerySet` instance.\nOriginal exception text was: 'QuerySet' object has no attribute 'zone'."
     ]
    }
   ],
   "source": [
    "from projects_files.models import ZoneImage\n",
    "from projects_files.serializers import ReportZoneImagesSerializers\n",
    "from django.db.models import F\n",
    "\n",
    "zoneImages1 = ZoneImage.objects.filter(zoneid__exact=21).values(\n",
    "    'zoneid__zone', 'img1', 'description1').annotate(\n",
    "    zone=F('zoneid__zone'), \n",
    "    img=F('img1'), \n",
    "    description=F('description1')\n",
    ").values('zone', 'img', 'description')\n",
    "zoneImages2 = ZoneImage.objects.filter(zoneid__exact=21).values(\n",
    "    'zoneid__zone', 'img2', 'description2').annotate(\n",
    "    zone=F('zoneid__zone'), \n",
    "    img=F('img2'), \n",
    "    description=F('description2')\n",
    ").values('zone', 'img', 'description')\n",
    "zoneImages3 = ZoneImage.objects.filter(zoneid__exact=21).values(\n",
    "    'zoneid__zone', 'img3', 'description3').annotate(\n",
    "    zone=F('zoneid__zone'), \n",
    "    img=F('img3'), \n",
    "    description=F('description3')\n",
    ").values('zone', 'img', 'description')\n",
    "\n",
    "zoneImages = zoneImages1.union(zoneImages2).union(zoneImages3)\n",
    "for item in zoneImages:\n",
    "    print(item)\n",
    "    \n",
    "serializer = ReportZoneImagesSerializers(zoneImages)\n",
    "    \n",
    "print(serializer.data)\n"
   ]
  },
  {
   "cell_type": "code",
   "execution_count": 4,
   "id": "b54c80f1",
   "metadata": {},
   "outputs": [
    {
     "ename": "AttributeError",
     "evalue": "type object 'ZoneImage' has no attribute 'objects'",
     "output_type": "error",
     "traceback": [
      "\u001b[1;31m---------------------------------------------------------------------------\u001b[0m",
      "\u001b[1;31mAttributeError\u001b[0m                            Traceback (most recent call last)",
      "\u001b[1;32m~\\AppData\\Local\\Temp\\ipykernel_11940\\2708695216.py\u001b[0m in \u001b[0;36m<module>\u001b[1;34m\u001b[0m\n\u001b[0;32m     12\u001b[0m \u001b[0mlast_dateId\u001b[0m \u001b[1;33m=\u001b[0m \u001b[0mReportDate\u001b[0m\u001b[1;33m.\u001b[0m\u001b[0mobjects\u001b[0m\u001b[1;33m.\u001b[0m\u001b[0mfilter\u001b[0m\u001b[1;33m(\u001b[0m\u001b[0mdateid__lt\u001b[0m\u001b[1;33m=\u001b[0m\u001b[0mdateId\u001b[0m\u001b[1;33m)\u001b[0m\u001b[1;33m.\u001b[0m\u001b[0maggregate\u001b[0m\u001b[1;33m(\u001b[0m\u001b[0mMax\u001b[0m\u001b[1;33m(\u001b[0m\u001b[1;34m'dateid'\u001b[0m\u001b[1;33m)\u001b[0m\u001b[1;33m)\u001b[0m\u001b[1;33m[\u001b[0m\u001b[1;34m'dateid__max'\u001b[0m\u001b[1;33m]\u001b[0m\u001b[1;33m\u001b[0m\u001b[1;33m\u001b[0m\u001b[0m\n\u001b[0;32m     13\u001b[0m \u001b[1;33m\u001b[0m\u001b[0m\n\u001b[1;32m---> 14\u001b[1;33m \u001b[0mcount\u001b[0m \u001b[1;33m=\u001b[0m \u001b[0mZoneImage\u001b[0m\u001b[1;33m.\u001b[0m\u001b[0mobjects\u001b[0m\u001b[1;33m.\u001b[0m\u001b[0mfilter\u001b[0m\u001b[1;33m(\u001b[0m\u001b[0mzoneid__contractid__exact\u001b[0m\u001b[1;33m=\u001b[0m\u001b[0mcontractId\u001b[0m\u001b[1;33m,\u001b[0m \u001b[0mdateid__exact\u001b[0m\u001b[1;33m=\u001b[0m\u001b[0mdateId\u001b[0m\u001b[1;33m)\u001b[0m\u001b[1;33m\u001b[0m\u001b[1;33m\u001b[0m\u001b[0m\n\u001b[0m\u001b[0;32m     15\u001b[0m \u001b[1;33m\u001b[0m\u001b[0m\n\u001b[0;32m     16\u001b[0m \u001b[1;32mif\u001b[0m \u001b[0mcount\u001b[0m \u001b[1;33m==\u001b[0m \u001b[1;36m0\u001b[0m\u001b[1;33m:\u001b[0m\u001b[1;33m\u001b[0m\u001b[1;33m\u001b[0m\u001b[0m\n",
      "\u001b[1;31mAttributeError\u001b[0m: type object 'ZoneImage' has no attribute 'objects'"
     ]
    }
   ],
   "source": [
    "from projects.models import ReportDate\n",
    "from projects_files.models import Zone, ZoneImage\n",
    "from projects_files.services import SetReportVisit\n",
    "\n",
    "userId = 99053\n",
    "contractId = 123476\n",
    "dateId = 1119\n",
    "reportId = 14\n",
    "\n",
    "SetReportVisit(userId, contractId, dateId, reportId) \n",
    "\n",
    "last_dateId = ReportDate.objects.filter(dateid__lt=dateId).aggregate(Max('dateid'))['dateid__max']\n",
    "\n",
    "count = ZoneImage.objects.filter(zoneid__contractid__exact=contractId, dateid__exact=dateId)\n",
    "\n",
    "if count == 0:\n",
    "    zones = Zone.objects.filter(contractid__exact=contractId, Zone_Zoneimage__dateid__exact=last_dateId) \n",
    "                                    #  dateid__exact=last_dateId).exclude(Q(img1__exact=None) | \n",
    "                                    #                            Q(img2__exact=None) | \n",
    "                                    #                            Q(img3__exact=None)).values('zoneid')\n",
    "\n",
    "    date = ReportDate.objects.get(pk=dateId)\n",
    "    for zone in zones:\n",
    "        ZoneImage.objects.create(zoneid=zone, dateid=date)\n",
    "\n",
    "zoneImage = ZoneImage.objects.filter(zoneid__contractid__exact=contractId, dateid__exact=dateId)\n",
    "serializer = ZoneImagesSerializers(instance=zoneImage, many=True)\n"
   ]
  },
  {
   "cell_type": "code",
   "execution_count": 4,
   "id": "7489c618",
   "metadata": {},
   "outputs": [
    {
     "ename": "SyntaxError",
     "evalue": "'return' outside function (3106162926.py, line 57)",
     "output_type": "error",
     "traceback": [
      "\u001b[1;36m  File \u001b[1;32m\"C:\\Users\\asj\\AppData\\Local\\Temp\\ipykernel_8568\\3106162926.py\"\u001b[1;36m, line \u001b[1;32m57\u001b[0m\n\u001b[1;33m    return Response({\"status\": \"success\", \"data\": serializer.data}, status=status.HTTP_200_OK)\u001b[0m\n\u001b[1;37m                                                                                              ^\u001b[0m\n\u001b[1;31mSyntaxError\u001b[0m\u001b[1;31m:\u001b[0m 'return' outside function\n"
     ]
    }
   ],
   "source": [
    "from datetime import datetime\n",
    "from projects.models import *\n",
    "from projects.serializers import *\n",
    "\n",
    "max_date_id = ReportDate.objects.aggregate(Max('dateid'))['dateid__max']\n",
    "date = ReportDate.objects.get(pk=max_date_id)\n",
    "y1 = int(date.year)\n",
    "m1 = int(date.month)\n",
    "\n",
    "now = GregorianToShamsi(datetime.now())\n",
    "y2 = int(now[0:4])\n",
    "m2 = int(now[5:now.find('-', 5)])\n",
    "\n",
    "loop = 0\n",
    "if((y2 - y1) > 1 or ((y2 - y1) == 0 and (m2 - m1) > 0) or ((y2 -y1) == 1 and (12 - m1 + m2 > 0))):\n",
    "    loop = 1\n",
    "\n",
    "while(loop == 1):\n",
    "    if(y2 == y1):\n",
    "        m1 = m1 + 1\n",
    "        date = ReportDate.objects.create(year=str(y1), month=str(m1))\n",
    "\n",
    "        flag = 0\n",
    "        contracts = Contract.objects.exclude(contract__exact='test').filter(iscompleted__exact=False)\n",
    "        for contract in contracts:\n",
    "            flag = ContractReportDate.objects.filter(contractid__exact=contract.contractid, \n",
    "                                                  dateid__year__exact=y2,\n",
    "                                                  dateid__month__exact=m2).count()\n",
    "            if flag == 0:\n",
    "                ContractReportDate.objects.create(contractid=contract, dateid=date)\n",
    "\n",
    "        if(m2 == m1):\n",
    "            loop = 0\n",
    "\n",
    "    elif(y2 - y1 > 0):\n",
    "        m1 = m1 + 1\n",
    "        if(m1 > 12):\n",
    "            m1 = 1\n",
    "            y1 = y1 + 1\n",
    "\n",
    "        date = ReportDate.objects.create(year=str(y1), month=str(m1))\n",
    "\n",
    "        flag = 0\n",
    "        contracts = Contract.objects.exclude(contract__exact='test').filter(iscompleted__exact=False)\n",
    "        for contract in contracts:\n",
    "            flag = ContractReportDate.objects.filter(contractid__exact=contract.contractid, \n",
    "                                                  dateid__year__exact=y2,\n",
    "                                                  dateid__month__exact=m2).count()\n",
    "            if flag == 0:\n",
    "                ContractReportDate.objects.create(contractid=contract, dateid=date)\n",
    "\n",
    "        if(y2 == y1 and m2 == m1):\n",
    "            loop = 0\n",
    "\n",
    "reportDates = ReportDate.objects.all().order_by('-dateid')\n",
    "serializer = ReportDateSerializerEx(reportDates, many=True)\n",
    "print(serializer.data)"
   ]
  },
  {
   "cell_type": "code",
   "execution_count": 5,
   "id": "cbeee34a",
   "metadata": {},
   "outputs": [
    {
     "name": "stdout",
     "output_type": "stream",
     "text": [
      "objects:  <QuerySet [<ReportConfirm: ReportConfirm object (15004)>]>\n"
     ]
    }
   ],
   "source": [
    "from contracts.models import Contract\n",
    "from projects.models import ReportConfirm, ReportDate\n",
    "\n",
    "contractId = 123476\n",
    "dateId = 2122\n",
    "confirmed = 1\n",
    "userId = 1124\n",
    "\n",
    "try:\n",
    "    objects = ReportConfirm.objects.filter(contractid__exact=contractId, dateid__exact=dateId)\n",
    "    print('objects: ', objects)\n",
    "    if(objects is not None and len(objects) == 16):\n",
    "        for obj in objects:\n",
    "            print('id: ', obj.reportconfirmid)\n",
    "            obj.pm_c = confirmed\n",
    "            obj.pmconfirmdate = datetime.now()\n",
    "            obj.save()\n",
    "\n",
    "        print('updated')\n",
    "#     else: \n",
    "#         contract = Contract.objects.get(pk=contractId)\n",
    "#         date = ReportDate.objects.get(pk=dateId)\n",
    "# #         user = get_user_model().objects.get(pk=userId)\n",
    "#         ReportConfirm.objects.create(contractid=contract, \n",
    "#                                      dateid=date, \n",
    "#                                      pm_c=confirmed, \n",
    "#                                      pmconfirmdate = datetime.now())\n",
    "#         print('Inserted')\n",
    "except Execption as ex:\n",
    "    print(ex)\n",
    "\n",
    "\n",
    "\n",
    "\n",
    "\n"
   ]
  },
  {
   "cell_type": "code",
   "execution_count": 6,
   "id": "4fb6862a",
   "metadata": {},
   "outputs": [
    {
     "ename": "FieldError",
     "evalue": "Related Field got invalid lookup: exact",
     "output_type": "error",
     "traceback": [
      "\u001b[1;31m---------------------------------------------------------------------------\u001b[0m",
      "\u001b[1;31mFieldError\u001b[0m                                Traceback (most recent call last)",
      "\u001b[1;32m~\\AppData\\Local\\Temp\\ipykernel_15476\\4028907723.py\u001b[0m in \u001b[0;36m<module>\u001b[1;34m\u001b[0m\n\u001b[0;32m      1\u001b[0m \u001b[1;32mfrom\u001b[0m \u001b[0mprojects\u001b[0m\u001b[1;33m.\u001b[0m\u001b[0mmodels\u001b[0m \u001b[1;32mimport\u001b[0m \u001b[0mProgressState\u001b[0m\u001b[1;33m\u001b[0m\u001b[1;33m\u001b[0m\u001b[0m\n\u001b[0;32m      2\u001b[0m \u001b[1;33m\u001b[0m\u001b[0m\n\u001b[1;32m----> 3\u001b[1;33m \u001b[0mProgressState\u001b[0m\u001b[1;33m.\u001b[0m\u001b[0mobjects\u001b[0m\u001b[1;33m.\u001b[0m\u001b[0mfilter\u001b[0m\u001b[1;33m(\u001b[0m\u001b[0mcontractid__exact\u001b[0m\u001b[1;33m=\u001b[0m\u001b[1;36m123476\u001b[0m\u001b[1;33m,\u001b[0m \u001b[0mdateid__exact__lte\u001b[0m\u001b[1;33m=\u001b[0m\u001b[1;36m3121\u001b[0m\u001b[1;33m)\u001b[0m\u001b[1;33m.\u001b[0m\u001b[0morder_by\u001b[0m\u001b[1;33m(\u001b[0m\u001b[1;34m'-dateid'\u001b[0m\u001b[1;33m)\u001b[0m\u001b[1;33m[\u001b[0m\u001b[1;33m:\u001b[0m\u001b[1;36m6\u001b[0m\u001b[1;33m:\u001b[0m\u001b[1;33m-\u001b[0m\u001b[1;36m1\u001b[0m\u001b[1;33m]\u001b[0m\u001b[1;33m\u001b[0m\u001b[1;33m\u001b[0m\u001b[0m\n\u001b[0m",
      "\u001b[1;32mD:\\projects\\cost_control\\cost-control-backend\\env\\lib\\site-packages\\django\\db\\models\\manager.py\u001b[0m in \u001b[0;36mmanager_method\u001b[1;34m(self, *args, **kwargs)\u001b[0m\n\u001b[0;32m     83\u001b[0m         \u001b[1;32mdef\u001b[0m \u001b[0mcreate_method\u001b[0m\u001b[1;33m(\u001b[0m\u001b[0mname\u001b[0m\u001b[1;33m,\u001b[0m \u001b[0mmethod\u001b[0m\u001b[1;33m)\u001b[0m\u001b[1;33m:\u001b[0m\u001b[1;33m\u001b[0m\u001b[1;33m\u001b[0m\u001b[0m\n\u001b[0;32m     84\u001b[0m             \u001b[1;32mdef\u001b[0m \u001b[0mmanager_method\u001b[0m\u001b[1;33m(\u001b[0m\u001b[0mself\u001b[0m\u001b[1;33m,\u001b[0m \u001b[1;33m*\u001b[0m\u001b[0margs\u001b[0m\u001b[1;33m,\u001b[0m \u001b[1;33m**\u001b[0m\u001b[0mkwargs\u001b[0m\u001b[1;33m)\u001b[0m\u001b[1;33m:\u001b[0m\u001b[1;33m\u001b[0m\u001b[1;33m\u001b[0m\u001b[0m\n\u001b[1;32m---> 85\u001b[1;33m                 \u001b[1;32mreturn\u001b[0m \u001b[0mgetattr\u001b[0m\u001b[1;33m(\u001b[0m\u001b[0mself\u001b[0m\u001b[1;33m.\u001b[0m\u001b[0mget_queryset\u001b[0m\u001b[1;33m(\u001b[0m\u001b[1;33m)\u001b[0m\u001b[1;33m,\u001b[0m \u001b[0mname\u001b[0m\u001b[1;33m)\u001b[0m\u001b[1;33m(\u001b[0m\u001b[1;33m*\u001b[0m\u001b[0margs\u001b[0m\u001b[1;33m,\u001b[0m \u001b[1;33m**\u001b[0m\u001b[0mkwargs\u001b[0m\u001b[1;33m)\u001b[0m\u001b[1;33m\u001b[0m\u001b[1;33m\u001b[0m\u001b[0m\n\u001b[0m\u001b[0;32m     86\u001b[0m             \u001b[0mmanager_method\u001b[0m\u001b[1;33m.\u001b[0m\u001b[0m__name__\u001b[0m \u001b[1;33m=\u001b[0m \u001b[0mmethod\u001b[0m\u001b[1;33m.\u001b[0m\u001b[0m__name__\u001b[0m\u001b[1;33m\u001b[0m\u001b[1;33m\u001b[0m\u001b[0m\n\u001b[0;32m     87\u001b[0m             \u001b[0mmanager_method\u001b[0m\u001b[1;33m.\u001b[0m\u001b[0m__doc__\u001b[0m \u001b[1;33m=\u001b[0m \u001b[0mmethod\u001b[0m\u001b[1;33m.\u001b[0m\u001b[0m__doc__\u001b[0m\u001b[1;33m\u001b[0m\u001b[1;33m\u001b[0m\u001b[0m\n",
      "\u001b[1;32mD:\\projects\\cost_control\\cost-control-backend\\env\\lib\\site-packages\\django\\db\\models\\query.py\u001b[0m in \u001b[0;36mfilter\u001b[1;34m(self, *args, **kwargs)\u001b[0m\n\u001b[0;32m    939\u001b[0m         \"\"\"\n\u001b[0;32m    940\u001b[0m         \u001b[0mself\u001b[0m\u001b[1;33m.\u001b[0m\u001b[0m_not_support_combined_queries\u001b[0m\u001b[1;33m(\u001b[0m\u001b[1;34m'filter'\u001b[0m\u001b[1;33m)\u001b[0m\u001b[1;33m\u001b[0m\u001b[1;33m\u001b[0m\u001b[0m\n\u001b[1;32m--> 941\u001b[1;33m         \u001b[1;32mreturn\u001b[0m \u001b[0mself\u001b[0m\u001b[1;33m.\u001b[0m\u001b[0m_filter_or_exclude\u001b[0m\u001b[1;33m(\u001b[0m\u001b[1;32mFalse\u001b[0m\u001b[1;33m,\u001b[0m \u001b[0margs\u001b[0m\u001b[1;33m,\u001b[0m \u001b[0mkwargs\u001b[0m\u001b[1;33m)\u001b[0m\u001b[1;33m\u001b[0m\u001b[1;33m\u001b[0m\u001b[0m\n\u001b[0m\u001b[0;32m    942\u001b[0m \u001b[1;33m\u001b[0m\u001b[0m\n\u001b[0;32m    943\u001b[0m     \u001b[1;32mdef\u001b[0m \u001b[0mexclude\u001b[0m\u001b[1;33m(\u001b[0m\u001b[0mself\u001b[0m\u001b[1;33m,\u001b[0m \u001b[1;33m*\u001b[0m\u001b[0margs\u001b[0m\u001b[1;33m,\u001b[0m \u001b[1;33m**\u001b[0m\u001b[0mkwargs\u001b[0m\u001b[1;33m)\u001b[0m\u001b[1;33m:\u001b[0m\u001b[1;33m\u001b[0m\u001b[1;33m\u001b[0m\u001b[0m\n",
      "\u001b[1;32mD:\\projects\\cost_control\\cost-control-backend\\env\\lib\\site-packages\\django\\db\\models\\query.py\u001b[0m in \u001b[0;36m_filter_or_exclude\u001b[1;34m(self, negate, args, kwargs)\u001b[0m\n\u001b[0;32m    959\u001b[0m             \u001b[0mclone\u001b[0m\u001b[1;33m.\u001b[0m\u001b[0m_deferred_filter\u001b[0m \u001b[1;33m=\u001b[0m \u001b[0mnegate\u001b[0m\u001b[1;33m,\u001b[0m \u001b[0margs\u001b[0m\u001b[1;33m,\u001b[0m \u001b[0mkwargs\u001b[0m\u001b[1;33m\u001b[0m\u001b[1;33m\u001b[0m\u001b[0m\n\u001b[0;32m    960\u001b[0m         \u001b[1;32melse\u001b[0m\u001b[1;33m:\u001b[0m\u001b[1;33m\u001b[0m\u001b[1;33m\u001b[0m\u001b[0m\n\u001b[1;32m--> 961\u001b[1;33m             \u001b[0mclone\u001b[0m\u001b[1;33m.\u001b[0m\u001b[0m_filter_or_exclude_inplace\u001b[0m\u001b[1;33m(\u001b[0m\u001b[0mnegate\u001b[0m\u001b[1;33m,\u001b[0m \u001b[0margs\u001b[0m\u001b[1;33m,\u001b[0m \u001b[0mkwargs\u001b[0m\u001b[1;33m)\u001b[0m\u001b[1;33m\u001b[0m\u001b[1;33m\u001b[0m\u001b[0m\n\u001b[0m\u001b[0;32m    962\u001b[0m         \u001b[1;32mreturn\u001b[0m \u001b[0mclone\u001b[0m\u001b[1;33m\u001b[0m\u001b[1;33m\u001b[0m\u001b[0m\n\u001b[0;32m    963\u001b[0m \u001b[1;33m\u001b[0m\u001b[0m\n",
      "\u001b[1;32mD:\\projects\\cost_control\\cost-control-backend\\env\\lib\\site-packages\\django\\db\\models\\query.py\u001b[0m in \u001b[0;36m_filter_or_exclude_inplace\u001b[1;34m(self, negate, args, kwargs)\u001b[0m\n\u001b[0;32m    966\u001b[0m             \u001b[0mself\u001b[0m\u001b[1;33m.\u001b[0m\u001b[0m_query\u001b[0m\u001b[1;33m.\u001b[0m\u001b[0madd_q\u001b[0m\u001b[1;33m(\u001b[0m\u001b[1;33m~\u001b[0m\u001b[0mQ\u001b[0m\u001b[1;33m(\u001b[0m\u001b[1;33m*\u001b[0m\u001b[0margs\u001b[0m\u001b[1;33m,\u001b[0m \u001b[1;33m**\u001b[0m\u001b[0mkwargs\u001b[0m\u001b[1;33m)\u001b[0m\u001b[1;33m)\u001b[0m\u001b[1;33m\u001b[0m\u001b[1;33m\u001b[0m\u001b[0m\n\u001b[0;32m    967\u001b[0m         \u001b[1;32melse\u001b[0m\u001b[1;33m:\u001b[0m\u001b[1;33m\u001b[0m\u001b[1;33m\u001b[0m\u001b[0m\n\u001b[1;32m--> 968\u001b[1;33m             \u001b[0mself\u001b[0m\u001b[1;33m.\u001b[0m\u001b[0m_query\u001b[0m\u001b[1;33m.\u001b[0m\u001b[0madd_q\u001b[0m\u001b[1;33m(\u001b[0m\u001b[0mQ\u001b[0m\u001b[1;33m(\u001b[0m\u001b[1;33m*\u001b[0m\u001b[0margs\u001b[0m\u001b[1;33m,\u001b[0m \u001b[1;33m**\u001b[0m\u001b[0mkwargs\u001b[0m\u001b[1;33m)\u001b[0m\u001b[1;33m)\u001b[0m\u001b[1;33m\u001b[0m\u001b[1;33m\u001b[0m\u001b[0m\n\u001b[0m\u001b[0;32m    969\u001b[0m \u001b[1;33m\u001b[0m\u001b[0m\n\u001b[0;32m    970\u001b[0m     \u001b[1;32mdef\u001b[0m \u001b[0mcomplex_filter\u001b[0m\u001b[1;33m(\u001b[0m\u001b[0mself\u001b[0m\u001b[1;33m,\u001b[0m \u001b[0mfilter_obj\u001b[0m\u001b[1;33m)\u001b[0m\u001b[1;33m:\u001b[0m\u001b[1;33m\u001b[0m\u001b[1;33m\u001b[0m\u001b[0m\n",
      "\u001b[1;32mD:\\projects\\cost_control\\cost-control-backend\\env\\lib\\site-packages\\django\\db\\models\\sql\\query.py\u001b[0m in \u001b[0;36madd_q\u001b[1;34m(self, q_object)\u001b[0m\n\u001b[0;32m   1414\u001b[0m         \u001b[1;31m# So, demotion is OK.\u001b[0m\u001b[1;33m\u001b[0m\u001b[1;33m\u001b[0m\u001b[1;33m\u001b[0m\u001b[0m\n\u001b[0;32m   1415\u001b[0m         \u001b[0mexisting_inner\u001b[0m \u001b[1;33m=\u001b[0m \u001b[1;33m{\u001b[0m\u001b[0ma\u001b[0m \u001b[1;32mfor\u001b[0m \u001b[0ma\u001b[0m \u001b[1;32min\u001b[0m \u001b[0mself\u001b[0m\u001b[1;33m.\u001b[0m\u001b[0malias_map\u001b[0m \u001b[1;32mif\u001b[0m \u001b[0mself\u001b[0m\u001b[1;33m.\u001b[0m\u001b[0malias_map\u001b[0m\u001b[1;33m[\u001b[0m\u001b[0ma\u001b[0m\u001b[1;33m]\u001b[0m\u001b[1;33m.\u001b[0m\u001b[0mjoin_type\u001b[0m \u001b[1;33m==\u001b[0m \u001b[0mINNER\u001b[0m\u001b[1;33m}\u001b[0m\u001b[1;33m\u001b[0m\u001b[1;33m\u001b[0m\u001b[0m\n\u001b[1;32m-> 1416\u001b[1;33m         \u001b[0mclause\u001b[0m\u001b[1;33m,\u001b[0m \u001b[0m_\u001b[0m \u001b[1;33m=\u001b[0m \u001b[0mself\u001b[0m\u001b[1;33m.\u001b[0m\u001b[0m_add_q\u001b[0m\u001b[1;33m(\u001b[0m\u001b[0mq_object\u001b[0m\u001b[1;33m,\u001b[0m \u001b[0mself\u001b[0m\u001b[1;33m.\u001b[0m\u001b[0mused_aliases\u001b[0m\u001b[1;33m)\u001b[0m\u001b[1;33m\u001b[0m\u001b[1;33m\u001b[0m\u001b[0m\n\u001b[0m\u001b[0;32m   1417\u001b[0m         \u001b[1;32mif\u001b[0m \u001b[0mclause\u001b[0m\u001b[1;33m:\u001b[0m\u001b[1;33m\u001b[0m\u001b[1;33m\u001b[0m\u001b[0m\n\u001b[0;32m   1418\u001b[0m             \u001b[0mself\u001b[0m\u001b[1;33m.\u001b[0m\u001b[0mwhere\u001b[0m\u001b[1;33m.\u001b[0m\u001b[0madd\u001b[0m\u001b[1;33m(\u001b[0m\u001b[0mclause\u001b[0m\u001b[1;33m,\u001b[0m \u001b[0mAND\u001b[0m\u001b[1;33m)\u001b[0m\u001b[1;33m\u001b[0m\u001b[1;33m\u001b[0m\u001b[0m\n",
      "\u001b[1;32mD:\\projects\\cost_control\\cost-control-backend\\env\\lib\\site-packages\\django\\db\\models\\sql\\query.py\u001b[0m in \u001b[0;36m_add_q\u001b[1;34m(self, q_object, used_aliases, branch_negated, current_negated, allow_joins, split_subq, check_filterable)\u001b[0m\n\u001b[0;32m   1436\u001b[0m                 \u001b[0mchild\u001b[0m\u001b[1;33m,\u001b[0m \u001b[0mcan_reuse\u001b[0m\u001b[1;33m=\u001b[0m\u001b[0mused_aliases\u001b[0m\u001b[1;33m,\u001b[0m \u001b[0mbranch_negated\u001b[0m\u001b[1;33m=\u001b[0m\u001b[0mbranch_negated\u001b[0m\u001b[1;33m,\u001b[0m\u001b[1;33m\u001b[0m\u001b[1;33m\u001b[0m\u001b[0m\n\u001b[0;32m   1437\u001b[0m                 \u001b[0mcurrent_negated\u001b[0m\u001b[1;33m=\u001b[0m\u001b[0mcurrent_negated\u001b[0m\u001b[1;33m,\u001b[0m \u001b[0mallow_joins\u001b[0m\u001b[1;33m=\u001b[0m\u001b[0mallow_joins\u001b[0m\u001b[1;33m,\u001b[0m\u001b[1;33m\u001b[0m\u001b[1;33m\u001b[0m\u001b[0m\n\u001b[1;32m-> 1438\u001b[1;33m                 \u001b[0msplit_subq\u001b[0m\u001b[1;33m=\u001b[0m\u001b[0msplit_subq\u001b[0m\u001b[1;33m,\u001b[0m \u001b[0mcheck_filterable\u001b[0m\u001b[1;33m=\u001b[0m\u001b[0mcheck_filterable\u001b[0m\u001b[1;33m,\u001b[0m\u001b[1;33m\u001b[0m\u001b[1;33m\u001b[0m\u001b[0m\n\u001b[0m\u001b[0;32m   1439\u001b[0m             )\n\u001b[0;32m   1440\u001b[0m             \u001b[0mjoinpromoter\u001b[0m\u001b[1;33m.\u001b[0m\u001b[0madd_votes\u001b[0m\u001b[1;33m(\u001b[0m\u001b[0mneeded_inner\u001b[0m\u001b[1;33m)\u001b[0m\u001b[1;33m\u001b[0m\u001b[1;33m\u001b[0m\u001b[0m\n",
      "\u001b[1;32mD:\\projects\\cost_control\\cost-control-backend\\env\\lib\\site-packages\\django\\db\\models\\sql\\query.py\u001b[0m in \u001b[0;36mbuild_filter\u001b[1;34m(self, filter_expr, branch_negated, current_negated, can_reuse, allow_joins, split_subq, reuse_with_filtered_relation, check_filterable)\u001b[0m\n\u001b[0;32m   1360\u001b[0m             \u001b[0mnum_lookups\u001b[0m \u001b[1;33m=\u001b[0m \u001b[0mlen\u001b[0m\u001b[1;33m(\u001b[0m\u001b[0mlookups\u001b[0m\u001b[1;33m)\u001b[0m\u001b[1;33m\u001b[0m\u001b[1;33m\u001b[0m\u001b[0m\n\u001b[0;32m   1361\u001b[0m             \u001b[1;32mif\u001b[0m \u001b[0mnum_lookups\u001b[0m \u001b[1;33m>\u001b[0m \u001b[1;36m1\u001b[0m\u001b[1;33m:\u001b[0m\u001b[1;33m\u001b[0m\u001b[1;33m\u001b[0m\u001b[0m\n\u001b[1;32m-> 1362\u001b[1;33m                 \u001b[1;32mraise\u001b[0m \u001b[0mFieldError\u001b[0m\u001b[1;33m(\u001b[0m\u001b[1;34m'Related Field got invalid lookup: {}'\u001b[0m\u001b[1;33m.\u001b[0m\u001b[0mformat\u001b[0m\u001b[1;33m(\u001b[0m\u001b[0mlookups\u001b[0m\u001b[1;33m[\u001b[0m\u001b[1;36m0\u001b[0m\u001b[1;33m]\u001b[0m\u001b[1;33m)\u001b[0m\u001b[1;33m)\u001b[0m\u001b[1;33m\u001b[0m\u001b[1;33m\u001b[0m\u001b[0m\n\u001b[0m\u001b[0;32m   1363\u001b[0m             \u001b[1;32mif\u001b[0m \u001b[0mlen\u001b[0m\u001b[1;33m(\u001b[0m\u001b[0mtargets\u001b[0m\u001b[1;33m)\u001b[0m \u001b[1;33m==\u001b[0m \u001b[1;36m1\u001b[0m\u001b[1;33m:\u001b[0m\u001b[1;33m\u001b[0m\u001b[1;33m\u001b[0m\u001b[0m\n\u001b[0;32m   1364\u001b[0m                 \u001b[0mcol\u001b[0m \u001b[1;33m=\u001b[0m \u001b[0mself\u001b[0m\u001b[1;33m.\u001b[0m\u001b[0m_get_col\u001b[0m\u001b[1;33m(\u001b[0m\u001b[0mtargets\u001b[0m\u001b[1;33m[\u001b[0m\u001b[1;36m0\u001b[0m\u001b[1;33m]\u001b[0m\u001b[1;33m,\u001b[0m \u001b[0mjoin_info\u001b[0m\u001b[1;33m.\u001b[0m\u001b[0mfinal_field\u001b[0m\u001b[1;33m,\u001b[0m \u001b[0malias\u001b[0m\u001b[1;33m)\u001b[0m\u001b[1;33m\u001b[0m\u001b[1;33m\u001b[0m\u001b[0m\n",
      "\u001b[1;31mFieldError\u001b[0m: Related Field got invalid lookup: exact"
     ]
    }
   ],
   "source": [
    "from projects.models import ProgressState\n",
    "\n",
    "ProgressState.objects.filter(contractid__exact=123476, dateid__exact__lte=3121).order_by('-dateid')[:6:-1]\n"
   ]
  },
  {
   "cell_type": "code",
   "execution_count": 19,
   "id": "bc617371",
   "metadata": {},
   "outputs": [
    {
     "name": "stdout",
     "output_type": "stream",
     "text": [
      "کاریر تست\n"
     ]
    }
   ],
   "source": [
    "from accounts.models import UserRole, RolePermission\n",
    "from django.contrib.auth import get_user_model\n",
    "\n",
    "roles = RolePermission.objects.filter(permissionid__permission__exact='Financial Info R/W').values('roleid')\n",
    "users = UserRole.objects.filter(projectid__exact=123467, roleid__in=roles)\n",
    "\n",
    "if len(users) == 1:\n",
    "    print('%s %s' % (users[0].userid.first_name, users[0].userid.last_name))\n",
    "else:\n",
    "    print('None')"
   ]
  },
  {
   "cell_type": "code",
   "execution_count": 7,
   "id": "02ec006a",
   "metadata": {},
   "outputs": [],
   "source": [
    "from projects.models import Budgetcost\n",
    "contractId = 123476\n",
    "dateId = 3123\n",
    "description = \"tetesvbsfdgsdfgbbsfdbsgfbfgb gfbgsgbgbg adbadgfbsdggsbdgdg adfgbsdg\"\n",
    "\n",
    "budget = Budgetcost.objects.get(contractid__exact=contractId, dateid__exact=dateId)\n",
    "budget.description = description\n",
    "budget.save()"
   ]
  },
  {
   "cell_type": "code",
   "execution_count": 4,
   "id": "83a8a27e",
   "metadata": {},
   "outputs": [
    {
     "data": {
      "text/plain": [
       "[OrderedDict([('bac_r', 0), ('bac_fc', 0), ('eac_r', 0), ('eac_fc', 0), ('description', ''), ('persianMonth', 'آذر')]), OrderedDict([('bac_r', 0), ('bac_fc', 0), ('eac_r', 0), ('eac_fc', 0), ('description', ''), ('persianMonth', 'دی')]), OrderedDict([('bac_r', 0), ('bac_fc', 0), ('eac_r', 0), ('eac_fc', 0), ('description', ''), ('persianMonth', 'بهمن')]), OrderedDict([('bac_r', 0), ('bac_fc', 0), ('eac_r', 0), ('eac_fc', 0), ('description', ''), ('persianMonth', 'اسفند')]), OrderedDict([('bac_r', 0), ('bac_fc', 200000), ('eac_r', 200000), ('eac_fc', 0), ('description', ''), ('persianMonth', 'فروردین')]), OrderedDict([('bac_r', 0), ('bac_fc', 0), ('eac_r', 0), ('eac_fc', 0), ('description', 'این یک متن تستی برای امتحان کردن می باشد'), ('persianMonth', 'اردیبهشت')])]"
      ]
     },
     "execution_count": 4,
     "metadata": {},
     "output_type": "execute_result"
    }
   ],
   "source": [
    "from projects.serializers import BudgetCostReportSerializer\n",
    "from projects.models import Budgetcost, ReportDate\n",
    "contractId = 123476\n",
    "dateId = 3123\n",
    "\n",
    "budgetcosts = Budgetcost.objects.filter(contractid__exact=contractId, dateid__lte=dateId).order_by('-dateid')[:6:-1]\n",
    "serializer = BudgetCostReportSerializer(instance=budgetcosts, many=True)\n",
    "serializer.data\n",
    "            "
   ]
  },
  {
   "cell_type": "code",
   "execution_count": 7,
   "id": "7421a0cd",
   "metadata": {},
   "outputs": [
    {
     "ename": "IndentationError",
     "evalue": "unexpected indent (2164067105.py, line 11)",
     "output_type": "error",
     "traceback": [
      "\u001b[1;36m  File \u001b[1;32m\"C:\\Users\\asj\\AppData\\Local\\Temp\\ipykernel_1888\\2164067105.py\"\u001b[1;36m, line \u001b[1;32m11\u001b[0m\n\u001b[1;33m    print('1')\u001b[0m\n\u001b[1;37m    ^\u001b[0m\n\u001b[1;31mIndentationError\u001b[0m\u001b[1;31m:\u001b[0m unexpected indent\n"
     ]
    }
   ],
   "source": [
    "from django.db.models import Q\n",
    "from projects.models import ReportConfirm\n",
    "\n",
    "try:\n",
    "#     obj = \n",
    "    ReportConfirm.objects.get(Q(contractid__exact=123496, \n",
    "                                    dateid__exact=3185, type__exact=9, user_c__exact=1) |\n",
    "                                    Q(contractid__exact=123496, \n",
    "                                    dateid__exact=3185, type__exact=9, sa_c__exact=1))\n",
    "#     if obj is not None:\n",
    "        print('1') \n",
    "#     else:\n",
    "#         print('2') \n",
    "except ReportConfirm.DoesNotExist:\n",
    "    print('3') \n"
   ]
  },
  {
   "cell_type": "code",
   "execution_count": null,
   "id": "8e56403b",
   "metadata": {},
   "outputs": [],
   "source": []
  }
 ],
 "metadata": {
  "kernelspec": {
   "display_name": "Django Shell-Plus",
   "language": "python",
   "name": "django_extensions"
  },
  "language_info": {
   "codemirror_mode": {
    "name": "ipython",
    "version": 3
   },
   "file_extension": ".py",
   "mimetype": "text/x-python",
   "name": "python",
   "nbconvert_exporter": "python",
   "pygments_lexer": "ipython3",
   "version": "3.7.4"
  }
 },
 "nbformat": 4,
 "nbformat_minor": 5
}
